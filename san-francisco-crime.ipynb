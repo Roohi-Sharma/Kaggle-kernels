{
 "cells": [
  {
   "cell_type": "code",
   "execution_count": 1,
   "metadata": {
    "_cell_guid": "b1076dfc-b9ad-4769-8c92-a6c4dae69d19",
    "_uuid": "8f2839f25d086af736a60e9eeb907d3b93b6e0e5",
    "execution": {
     "iopub.execute_input": "2020-11-10T18:29:36.755070Z",
     "iopub.status.busy": "2020-11-10T18:29:36.753944Z",
     "iopub.status.idle": "2020-11-10T18:29:36.759111Z",
     "shell.execute_reply": "2020-11-10T18:29:36.758216Z"
    },
    "papermill": {
     "duration": 0.038783,
     "end_time": "2020-11-10T18:29:36.759349",
     "exception": false,
     "start_time": "2020-11-10T18:29:36.720566",
     "status": "completed"
    },
    "tags": []
   },
   "outputs": [
    {
     "name": "stdout",
     "output_type": "stream",
     "text": [
      "/kaggle/input/sf-crime/test.csv.zip\n",
      "/kaggle/input/sf-crime/sampleSubmission.csv.zip\n",
      "/kaggle/input/sf-crime/train.csv.zip\n"
     ]
    }
   ],
   "source": [
    "# This Python 3 environment comes with many helpful analytics libraries installed\n",
    "# It is defined by the kaggle/python Docker image: https://github.com/kaggle/docker-python\n",
    "# For example, here's several helpful packages to load\n",
    "\n",
    "import numpy as np # linear algebra\n",
    "import pandas as pd # data processing, CSV file I/O (e.g. pd.read_csv)\n",
    "\n",
    "# Input data files are available in the read-only \"../input/\" directory\n",
    "# For example, running this (by clicking run or pressing Shift+Enter) will list all files under the input directory\n",
    "\n",
    "import os\n",
    "for dirname, _, filenames in os.walk('/kaggle/input'):\n",
    "    for filename in filenames:\n",
    "        print(os.path.join(dirname, filename))\n",
    "\n",
    "# You can write up to 20GB to the current directory (/kaggle/working/) that gets preserved as output when you create a version using \"Save & Run All\" \n",
    "# You can also write temporary files to /kaggle/temp/, but they won't be saved outside of the current session"
   ]
  },
  {
   "cell_type": "code",
   "execution_count": 2,
   "metadata": {
    "_cell_guid": "79c7e3d0-c299-4dcb-8224-4455121ee9b0",
    "_uuid": "d629ff2d2480ee46fbb7e2d37f6b5fab8052498a",
    "execution": {
     "iopub.execute_input": "2020-11-10T18:29:36.818871Z",
     "iopub.status.busy": "2020-11-10T18:29:36.818012Z",
     "iopub.status.idle": "2020-11-10T18:29:42.043649Z",
     "shell.execute_reply": "2020-11-10T18:29:42.042826Z"
    },
    "papermill": {
     "duration": 5.256789,
     "end_time": "2020-11-10T18:29:42.043784",
     "exception": false,
     "start_time": "2020-11-10T18:29:36.786995",
     "status": "completed"
    },
    "tags": []
   },
   "outputs": [],
   "source": [
    "train = pd.read_csv(\"/kaggle/input/sf-crime/train.csv.zip\")\n",
    "test = pd.read_csv(\"/kaggle/input/sf-crime/test.csv.zip\")"
   ]
  },
  {
   "cell_type": "code",
   "execution_count": 3,
   "metadata": {
    "execution": {
     "iopub.execute_input": "2020-11-10T18:29:42.103949Z",
     "iopub.status.busy": "2020-11-10T18:29:42.102962Z",
     "iopub.status.idle": "2020-11-10T18:29:42.107230Z",
     "shell.execute_reply": "2020-11-10T18:29:42.107862Z"
    },
    "papermill": {
     "duration": 0.037983,
     "end_time": "2020-11-10T18:29:42.108021",
     "exception": false,
     "start_time": "2020-11-10T18:29:42.070038",
     "status": "completed"
    },
    "tags": []
   },
   "outputs": [
    {
     "data": {
      "text/plain": [
       "(878049, 9)"
      ]
     },
     "execution_count": 3,
     "metadata": {},
     "output_type": "execute_result"
    }
   ],
   "source": [
    "train.shape"
   ]
  },
  {
   "cell_type": "code",
   "execution_count": 4,
   "metadata": {
    "execution": {
     "iopub.execute_input": "2020-11-10T18:29:42.170646Z",
     "iopub.status.busy": "2020-11-10T18:29:42.169801Z",
     "iopub.status.idle": "2020-11-10T18:29:42.856331Z",
     "shell.execute_reply": "2020-11-10T18:29:42.855710Z"
    },
    "papermill": {
     "duration": 0.721842,
     "end_time": "2020-11-10T18:29:42.856472",
     "exception": false,
     "start_time": "2020-11-10T18:29:42.134630",
     "status": "completed"
    },
    "tags": []
   },
   "outputs": [
    {
     "name": "stdout",
     "output_type": "stream",
     "text": [
      "<class 'pandas.core.frame.DataFrame'>\n",
      "RangeIndex: 878049 entries, 0 to 878048\n",
      "Data columns (total 9 columns):\n",
      " #   Column      Non-Null Count   Dtype  \n",
      "---  ------      --------------   -----  \n",
      " 0   Dates       878049 non-null  object \n",
      " 1   Category    878049 non-null  object \n",
      " 2   Descript    878049 non-null  object \n",
      " 3   DayOfWeek   878049 non-null  object \n",
      " 4   PdDistrict  878049 non-null  object \n",
      " 5   Resolution  878049 non-null  object \n",
      " 6   Address     878049 non-null  object \n",
      " 7   X           878049 non-null  float64\n",
      " 8   Y           878049 non-null  float64\n",
      "dtypes: float64(2), object(7)\n",
      "memory usage: 60.3+ MB\n"
     ]
    }
   ],
   "source": [
    "#No missing values in train set\n",
    "train.info()"
   ]
  },
  {
   "cell_type": "code",
   "execution_count": 5,
   "metadata": {
    "execution": {
     "iopub.execute_input": "2020-11-10T18:29:42.918647Z",
     "iopub.status.busy": "2020-11-10T18:29:42.917570Z",
     "iopub.status.idle": "2020-11-10T18:29:43.324095Z",
     "shell.execute_reply": "2020-11-10T18:29:43.324708Z"
    },
    "papermill": {
     "duration": 0.440457,
     "end_time": "2020-11-10T18:29:43.324866",
     "exception": false,
     "start_time": "2020-11-10T18:29:42.884409",
     "status": "completed"
    },
    "tags": []
   },
   "outputs": [
    {
     "name": "stdout",
     "output_type": "stream",
     "text": [
      "<class 'pandas.core.frame.DataFrame'>\n",
      "RangeIndex: 884262 entries, 0 to 884261\n",
      "Data columns (total 7 columns):\n",
      " #   Column      Non-Null Count   Dtype  \n",
      "---  ------      --------------   -----  \n",
      " 0   Id          884262 non-null  int64  \n",
      " 1   Dates       884262 non-null  object \n",
      " 2   DayOfWeek   884262 non-null  object \n",
      " 3   PdDistrict  884262 non-null  object \n",
      " 4   Address     884262 non-null  object \n",
      " 5   X           884262 non-null  float64\n",
      " 6   Y           884262 non-null  float64\n",
      "dtypes: float64(2), int64(1), object(4)\n",
      "memory usage: 47.2+ MB\n"
     ]
    }
   ],
   "source": [
    "test.info()"
   ]
  },
  {
   "cell_type": "code",
   "execution_count": 6,
   "metadata": {
    "execution": {
     "iopub.execute_input": "2020-11-10T18:29:43.437458Z",
     "iopub.status.busy": "2020-11-10T18:29:43.386395Z",
     "iopub.status.idle": "2020-11-10T18:29:43.473862Z",
     "shell.execute_reply": "2020-11-10T18:29:43.473224Z"
    },
    "papermill": {
     "duration": 0.121426,
     "end_time": "2020-11-10T18:29:43.474047",
     "exception": false,
     "start_time": "2020-11-10T18:29:43.352621",
     "status": "completed"
    },
    "tags": []
   },
   "outputs": [],
   "source": [
    "#dropping Resolution and Descript columns from train set as they are not present in test set and hence\n",
    "#cannot be used for analysis\n",
    "train.drop(['Descript','Resolution'], axis = 1,inplace=True)"
   ]
  },
  {
   "cell_type": "code",
   "execution_count": 7,
   "metadata": {
    "execution": {
     "iopub.execute_input": "2020-11-10T18:29:44.000909Z",
     "iopub.status.busy": "2020-11-10T18:29:44.000084Z",
     "iopub.status.idle": "2020-11-10T18:29:44.028890Z",
     "shell.execute_reply": "2020-11-10T18:29:44.028124Z"
    },
    "papermill": {
     "duration": 0.526205,
     "end_time": "2020-11-10T18:29:44.029015",
     "exception": false,
     "start_time": "2020-11-10T18:29:43.502810",
     "status": "completed"
    },
    "tags": []
   },
   "outputs": [
    {
     "name": "stdout",
     "output_type": "stream",
     "text": [
      "<class 'pandas.core.frame.DataFrame'>\n",
      "RangeIndex: 878049 entries, 0 to 878048\n",
      "Data columns (total 7 columns):\n",
      " #   Column      Non-Null Count   Dtype  \n",
      "---  ------      --------------   -----  \n",
      " 0   Dates       878049 non-null  object \n",
      " 1   Category    878049 non-null  object \n",
      " 2   DayOfWeek   878049 non-null  object \n",
      " 3   PdDistrict  878049 non-null  object \n",
      " 4   Address     878049 non-null  object \n",
      " 5   X           878049 non-null  float64\n",
      " 6   Y           878049 non-null  float64\n",
      "dtypes: float64(2), object(5)\n",
      "memory usage: 46.9+ MB\n"
     ]
    }
   ],
   "source": [
    "train.info()"
   ]
  },
  {
   "cell_type": "code",
   "execution_count": 8,
   "metadata": {
    "execution": {
     "iopub.execute_input": "2020-11-10T18:29:44.108341Z",
     "iopub.status.busy": "2020-11-10T18:29:44.107599Z",
     "iopub.status.idle": "2020-11-10T18:29:45.010587Z",
     "shell.execute_reply": "2020-11-10T18:29:45.009728Z"
    },
    "papermill": {
     "duration": 0.952849,
     "end_time": "2020-11-10T18:29:45.010721",
     "exception": false,
     "start_time": "2020-11-10T18:29:44.057872",
     "status": "completed"
    },
    "tags": []
   },
   "outputs": [
    {
     "data": {
      "text/plain": [
       "65459"
      ]
     },
     "execution_count": 8,
     "metadata": {},
     "output_type": "execute_result"
    }
   ],
   "source": [
    "#check and remove duplicate values if any\n",
    "train.duplicated().sum()"
   ]
  },
  {
   "cell_type": "code",
   "execution_count": 9,
   "metadata": {
    "execution": {
     "iopub.execute_input": "2020-11-10T18:29:45.093074Z",
     "iopub.status.busy": "2020-11-10T18:29:45.092028Z",
     "iopub.status.idle": "2020-11-10T18:29:46.058831Z",
     "shell.execute_reply": "2020-11-10T18:29:46.058188Z"
    },
    "papermill": {
     "duration": 1.018094,
     "end_time": "2020-11-10T18:29:46.058980",
     "exception": false,
     "start_time": "2020-11-10T18:29:45.040886",
     "status": "completed"
    },
    "tags": []
   },
   "outputs": [],
   "source": [
    "train.drop_duplicates(inplace=True)"
   ]
  },
  {
   "cell_type": "code",
   "execution_count": 10,
   "metadata": {
    "execution": {
     "iopub.execute_input": "2020-11-10T18:29:46.125138Z",
     "iopub.status.busy": "2020-11-10T18:29:46.124326Z",
     "iopub.status.idle": "2020-11-10T18:29:46.133734Z",
     "shell.execute_reply": "2020-11-10T18:29:46.132944Z"
    },
    "papermill": {
     "duration": 0.045347,
     "end_time": "2020-11-10T18:29:46.133870",
     "exception": false,
     "start_time": "2020-11-10T18:29:46.088523",
     "status": "completed"
    },
    "tags": []
   },
   "outputs": [],
   "source": [
    "BBox = train.X.min(),train.X.max(),train.Y.min(),train.Y.max()"
   ]
  },
  {
   "cell_type": "code",
   "execution_count": 11,
   "metadata": {
    "execution": {
     "iopub.execute_input": "2020-11-10T18:29:46.199638Z",
     "iopub.status.busy": "2020-11-10T18:29:46.198715Z",
     "iopub.status.idle": "2020-11-10T18:29:46.202963Z",
     "shell.execute_reply": "2020-11-10T18:29:46.202389Z"
    },
    "papermill": {
     "duration": 0.039322,
     "end_time": "2020-11-10T18:29:46.203093",
     "exception": false,
     "start_time": "2020-11-10T18:29:46.163771",
     "status": "completed"
    },
    "tags": []
   },
   "outputs": [
    {
     "data": {
      "text/plain": [
       "(-122.51364206429, -120.5, 37.7078790224135, 90.0)"
      ]
     },
     "execution_count": 11,
     "metadata": {},
     "output_type": "execute_result"
    }
   ],
   "source": [
    "BBox"
   ]
  },
  {
   "cell_type": "code",
   "execution_count": 12,
   "metadata": {
    "execution": {
     "iopub.execute_input": "2020-11-10T18:29:46.273172Z",
     "iopub.status.busy": "2020-11-10T18:29:46.272367Z",
     "iopub.status.idle": "2020-11-10T18:29:57.211790Z",
     "shell.execute_reply": "2020-11-10T18:29:57.212489Z"
    },
    "papermill": {
     "duration": 10.97913,
     "end_time": "2020-11-10T18:29:57.212664",
     "exception": false,
     "start_time": "2020-11-10T18:29:46.233534",
     "status": "completed"
    },
    "tags": []
   },
   "outputs": [
    {
     "data": {
      "text/plain": [
       "<matplotlib.collections.PathCollection at 0x7f5f8162a550>"
      ]
     },
     "execution_count": 12,
     "metadata": {},
     "output_type": "execute_result"
    },
    {
     "data": {
      "image/png": "[encoded data removed]",
      "text/plain": [
       "<Figure size 864x648 with 1 Axes>"
      ]
     },
     "metadata": {},
     "output_type": "display_data"
    }
   ],
   "source": [
    "from mpl_toolkits.basemap import Basemap\n",
    "import matplotlib.pyplot as plt\n",
    "fig = plt.figure(figsize=(12,9))\n",
    "\n",
    "m = Basemap(projection='mill',\n",
    "           llcrnrlat = -90,\n",
    "           urcrnrlat = 90,\n",
    "           llcrnrlon = -180,\n",
    "           urcrnrlon = 180,\n",
    "           resolution = 'c')\n",
    "\n",
    "m.drawcoastlines()\n",
    "\n",
    "m.scatter(train['X'].tolist(),train['Y'].tolist(),latlon=True,s=300,c='red')"
   ]
  },
  {
   "cell_type": "code",
   "execution_count": 13,
   "metadata": {
    "execution": {
     "iopub.execute_input": "2020-11-10T18:29:57.287446Z",
     "iopub.status.busy": "2020-11-10T18:29:57.286653Z",
     "iopub.status.idle": "2020-11-10T18:29:58.221473Z",
     "shell.execute_reply": "2020-11-10T18:29:58.220640Z"
    },
    "papermill": {
     "duration": 0.973875,
     "end_time": "2020-11-10T18:29:58.221611",
     "exception": false,
     "start_time": "2020-11-10T18:29:57.247736",
     "status": "completed"
    },
    "tags": []
   },
   "outputs": [],
   "source": [
    "import seaborn as sns\n"
   ]
  },
  {
   "cell_type": "code",
   "execution_count": 14,
   "metadata": {
    "execution": {
     "iopub.execute_input": "2020-11-10T18:29:58.513784Z",
     "iopub.status.busy": "2020-11-10T18:29:58.512989Z",
     "iopub.status.idle": "2020-11-10T18:29:58.518048Z",
     "shell.execute_reply": "2020-11-10T18:29:58.517433Z"
    },
    "papermill": {
     "duration": 0.262506,
     "end_time": "2020-11-10T18:29:58.518176",
     "exception": false,
     "start_time": "2020-11-10T18:29:58.255670",
     "status": "completed"
    },
    "tags": []
   },
   "outputs": [],
   "source": [
    "count = train['Category'].value_counts()"
   ]
  },
  {
   "cell_type": "code",
   "execution_count": 15,
   "metadata": {
    "execution": {
     "iopub.execute_input": "2020-11-10T18:29:58.592181Z",
     "iopub.status.busy": "2020-11-10T18:29:58.591445Z",
     "iopub.status.idle": "2020-11-10T18:29:59.017602Z",
     "shell.execute_reply": "2020-11-10T18:29:59.016824Z"
    },
    "papermill": {
     "duration": 0.465251,
     "end_time": "2020-11-10T18:29:59.017734",
     "exception": false,
     "start_time": "2020-11-10T18:29:58.552483",
     "status": "completed"
    },
    "tags": []
   },
   "outputs": [
    {
     "data": {
      "text/plain": [
       "<matplotlib.axes._subplots.AxesSubplot at 0x7f5f784cef10>"
      ]
     },
     "execution_count": 15,
     "metadata": {},
     "output_type": "execute_result"
    },
    {
     "data": {
      "image/png": "[encoded data removed]",
      "text/plain": [
       "<Figure size 720x720 with 1 Axes>"
      ]
     },
     "metadata": {
      "needs_background": "light"
     },
     "output_type": "display_data"
    }
   ],
   "source": [
    "#Maximum crimes belong to category : Larceny/Theft\n",
    "count.plot(kind='bar', figsize = (10,10) , color = 'black')"
   ]
  },
  {
   "cell_type": "code",
   "execution_count": 16,
   "metadata": {
    "execution": {
     "iopub.execute_input": "2020-11-10T18:29:59.109824Z",
     "iopub.status.busy": "2020-11-10T18:29:59.104715Z",
     "iopub.status.idle": "2020-11-10T18:29:59.798723Z",
     "shell.execute_reply": "2020-11-10T18:29:59.797911Z"
    },
    "papermill": {
     "duration": 0.744588,
     "end_time": "2020-11-10T18:29:59.798857",
     "exception": false,
     "start_time": "2020-11-10T18:29:59.054269",
     "status": "completed"
    },
    "tags": []
   },
   "outputs": [],
   "source": [
    "time=[]\n",
    "for i in train['Dates']:\n",
    "    x=i.split()\n",
    "    time.append(x[1])\n",
    "time=pd.Series(time)    "
   ]
  },
  {
   "cell_type": "code",
   "execution_count": 17,
   "metadata": {
    "execution": {
     "iopub.execute_input": "2020-11-10T18:30:00.122109Z",
     "iopub.status.busy": "2020-11-10T18:30:00.121213Z",
     "iopub.status.idle": "2020-11-10T18:30:00.458650Z",
     "shell.execute_reply": "2020-11-10T18:30:00.459237Z"
    },
    "papermill": {
     "duration": 0.623775,
     "end_time": "2020-11-10T18:30:00.459413",
     "exception": false,
     "start_time": "2020-11-10T18:29:59.835638",
     "status": "completed"
    },
    "tags": []
   },
   "outputs": [
    {
     "data": {
      "text/plain": [
       "<matplotlib.axes._subplots.AxesSubplot at 0x7f5f6e8387d0>"
      ]
     },
     "execution_count": 17,
     "metadata": {},
     "output_type": "execute_result"
    },
    {
     "data": {
      "image/png": "[encoded data removed]",
      "text/plain": [
       "<Figure size 576x576 with 1 Axes>"
      ]
     },
     "metadata": {
      "needs_background": "light"
     },
     "output_type": "display_data"
    }
   ],
   "source": [
    "#top 20 times when the occurence of crime was the highest\n",
    "#the plot suggests the maximum crimes occur at 12 noon and 12 midnight\n",
    "time.value_counts()[:20].plot(kind='bar',figsize=(8,8))"
   ]
  },
  {
   "cell_type": "code",
   "execution_count": 18,
   "metadata": {
    "execution": {
     "iopub.execute_input": "2020-11-10T18:30:00.630005Z",
     "iopub.status.busy": "2020-11-10T18:30:00.629139Z",
     "iopub.status.idle": "2020-11-10T18:30:01.589741Z",
     "shell.execute_reply": "2020-11-10T18:30:01.588976Z"
    },
    "papermill": {
     "duration": 1.091537,
     "end_time": "2020-11-10T18:30:01.589870",
     "exception": false,
     "start_time": "2020-11-10T18:30:00.498333",
     "status": "completed"
    },
    "tags": []
   },
   "outputs": [
    {
     "data": {
      "text/plain": [
       "<matplotlib.axes._subplots.AxesSubplot at 0x7f5f6e76b110>"
      ]
     },
     "execution_count": 18,
     "metadata": {},
     "output_type": "execute_result"
    },
    {
     "data": {
      "image/png": "[encoded data removed]",
      "text/plain": [
       "<Figure size 432x288 with 1 Axes>"
      ]
     },
     "metadata": {},
     "output_type": "display_data"
    }
   ],
   "source": [
    "#Crime frequency doesn't differ alot among different days of the week but it is the maximum on friday\n",
    "sns.set()\n",
    "sns.countplot(x=train['DayOfWeek'],data=train)"
   ]
  },
  {
   "cell_type": "code",
   "execution_count": 19,
   "metadata": {
    "execution": {
     "iopub.execute_input": "2020-11-10T18:30:01.684591Z",
     "iopub.status.busy": "2020-11-10T18:30:01.683768Z",
     "iopub.status.idle": "2020-11-10T18:30:01.687561Z",
     "shell.execute_reply": "2020-11-10T18:30:01.686743Z"
    },
    "papermill": {
     "duration": 0.057981,
     "end_time": "2020-11-10T18:30:01.687688",
     "exception": false,
     "start_time": "2020-11-10T18:30:01.629707",
     "status": "completed"
    },
    "tags": []
   },
   "outputs": [],
   "source": [
    "def transformDataset(dataset):\n",
    "    dataset['Dates'] = pd.to_datetime(dataset['Dates'])\n",
    "    \n",
    "    dataset['Date'] = dataset['Dates'].dt.date\n",
    "    \n",
    "    dataset['n_days'] = (dataset['Date'] - dataset['Date'].min()).apply(lambda x: x.days)\n",
    "    \n",
    "    dataset['Year'] = dataset['Dates'].dt.year\n",
    "    dataset['DayOfWeek'] = dataset['Dates'].dt.dayofweek # OVERWRITE\n",
    "    dataset['WeekOfYear'] = dataset['Dates'].dt.weekofyear\n",
    "    dataset['Month'] = dataset['Dates'].dt.month\n",
    "    \n",
    "    dataset['Hour'] = dataset['Dates'].dt.hour\n",
    "    \n",
    "    dataset['Block'] = dataset['Address'].str.contains('block', case=False)\n",
    "    dataset['Block'] = dataset['Block'].map(lambda x: 1 if  x == True else 0)\n",
    "\n",
    "    \n",
    "    dataset = dataset.drop('Dates', 1)\n",
    "    dataset = dataset.drop('Date', 1)\n",
    "    dataset = dataset.drop('Address', 1)\n",
    "    \n",
    "    dataset = pd.get_dummies(data=dataset, columns=[ 'PdDistrict'], drop_first = True)\n",
    "    return dataset"
   ]
  },
  {
   "cell_type": "code",
   "execution_count": 20,
   "metadata": {
    "execution": {
     "iopub.execute_input": "2020-11-10T18:30:01.837522Z",
     "iopub.status.busy": "2020-11-10T18:30:01.836364Z",
     "iopub.status.idle": "2020-11-10T18:30:42.544863Z",
     "shell.execute_reply": "2020-11-10T18:30:42.543917Z"
    },
    "papermill": {
     "duration": 40.817459,
     "end_time": "2020-11-10T18:30:42.545059",
     "exception": false,
     "start_time": "2020-11-10T18:30:01.727600",
     "status": "completed"
    },
    "tags": []
   },
   "outputs": [
    {
     "name": "stderr",
     "output_type": "stream",
     "text": [
      "/opt/conda/lib/python3.7/site-packages/ipykernel_launcher.py:10: FutureWarning: Series.dt.weekofyear and Series.dt.week have been deprecated.  Please use Series.dt.isocalendar().week instead.\n",
      "  # Remove the CWD from sys.path while we load stuff.\n"
     ]
    }
   ],
   "source": [
    "train = transformDataset(train)\n",
    "test = transformDataset(test)"
   ]
  },
  {
   "cell_type": "code",
   "execution_count": 21,
   "metadata": {
    "execution": {
     "iopub.execute_input": "2020-11-10T18:30:42.638653Z",
     "iopub.status.busy": "2020-11-10T18:30:42.637839Z",
     "iopub.status.idle": "2020-11-10T18:30:42.695171Z",
     "shell.execute_reply": "2020-11-10T18:30:42.694484Z"
    },
    "papermill": {
     "duration": 0.10362,
     "end_time": "2020-11-10T18:30:42.695298",
     "exception": false,
     "start_time": "2020-11-10T18:30:42.591678",
     "status": "completed"
    },
    "tags": []
   },
   "outputs": [],
   "source": [
    "X = train.drop(\"Category\",axis=1)\n",
    "y = train[\"Category\"]"
   ]
  },
  {
   "cell_type": "code",
   "execution_count": 22,
   "metadata": {
    "execution": {
     "iopub.execute_input": "2020-11-10T18:30:42.796918Z",
     "iopub.status.busy": "2020-11-10T18:30:42.796088Z",
     "iopub.status.idle": "2020-11-10T18:30:42.892460Z",
     "shell.execute_reply": "2020-11-10T18:30:42.891717Z"
    },
    "papermill": {
     "duration": 0.156845,
     "end_time": "2020-11-10T18:30:42.892607",
     "exception": false,
     "start_time": "2020-11-10T18:30:42.735762",
     "status": "completed"
    },
    "tags": []
   },
   "outputs": [],
   "source": [
    "Y = pd.get_dummies(y)"
   ]
  },
  {
   "cell_type": "code",
   "execution_count": 23,
   "metadata": {
    "execution": {
     "iopub.execute_input": "2020-11-10T18:30:42.982863Z",
     "iopub.status.busy": "2020-11-10T18:30:42.981961Z",
     "iopub.status.idle": "2020-11-10T18:30:43.331522Z",
     "shell.execute_reply": "2020-11-10T18:30:43.330722Z"
    },
    "papermill": {
     "duration": 0.397712,
     "end_time": "2020-11-10T18:30:43.331654",
     "exception": false,
     "start_time": "2020-11-10T18:30:42.933942",
     "status": "completed"
    },
    "tags": []
   },
   "outputs": [
    {
     "name": "stdout",
     "output_type": "stream",
     "text": [
      "(609442, 18) (609442, 39)\n",
      "(203148, 18) (203148, 39)\n"
     ]
    }
   ],
   "source": [
    "from sklearn.model_selection import train_test_split\n",
    "X_train,X_test,Y_train,Y_test = train_test_split(X,Y)\n",
    "    \n",
    "print(X_train.shape,Y_train.shape)\n",
    "print(X_test.shape,Y_test.shape)"
   ]
  },
  {
   "cell_type": "code",
   "execution_count": 24,
   "metadata": {
    "execution": {
     "iopub.execute_input": "2020-11-10T18:30:43.423131Z",
     "iopub.status.busy": "2020-11-10T18:30:43.421744Z",
     "iopub.status.idle": "2020-11-10T18:30:48.891533Z",
     "shell.execute_reply": "2020-11-10T18:30:48.890706Z"
    },
    "papermill": {
     "duration": 5.516627,
     "end_time": "2020-11-10T18:30:48.891667",
     "exception": false,
     "start_time": "2020-11-10T18:30:43.375040",
     "status": "completed"
    },
    "tags": []
   },
   "outputs": [],
   "source": [
    "from keras.models import Sequential\n",
    "from keras.layers import Dense,Activation"
   ]
  },
  {
   "cell_type": "code",
   "execution_count": 25,
   "metadata": {
    "execution": {
     "iopub.execute_input": "2020-11-10T18:30:48.985158Z",
     "iopub.status.busy": "2020-11-10T18:30:48.984294Z",
     "iopub.status.idle": "2020-11-10T18:30:49.130174Z",
     "shell.execute_reply": "2020-11-10T18:30:49.128883Z"
    },
    "papermill": {
     "duration": 0.196844,
     "end_time": "2020-11-10T18:30:49.130395",
     "exception": false,
     "start_time": "2020-11-10T18:30:48.933551",
     "status": "completed"
    },
    "tags": []
   },
   "outputs": [
    {
     "name": "stdout",
     "output_type": "stream",
     "text": [
      "Model: \"sequential\"\n",
      "_________________________________________________________________\n",
      "Layer (type)                 Output Shape              Param #   \n",
      "=================================================================\n",
      "dense (Dense)                (None, 100)               1900      \n",
      "_________________________________________________________________\n",
      "activation (Activation)      (None, 100)               0         \n",
      "_________________________________________________________________\n",
      "dense_1 (Dense)              (None, 80)                8080      \n",
      "_________________________________________________________________\n",
      "activation_1 (Activation)    (None, 80)                0         \n",
      "_________________________________________________________________\n",
      "dense_2 (Dense)              (None, 60)                4860      \n",
      "_________________________________________________________________\n",
      "activation_2 (Activation)    (None, 60)                0         \n",
      "_________________________________________________________________\n",
      "dense_3 (Dense)              (None, 39)                2379      \n",
      "_________________________________________________________________\n",
      "activation_3 (Activation)    (None, 39)                0         \n",
      "=================================================================\n",
      "Total params: 17,219\n",
      "Trainable params: 17,219\n",
      "Non-trainable params: 0\n",
      "_________________________________________________________________\n"
     ]
    }
   ],
   "source": [
    "model = Sequential()\n",
    "\n",
    "model.add(Dense(100,input_shape=(18,)))\n",
    "model.add(Activation('relu'))\n",
    "\n",
    "model.add(Dense(80))\n",
    "model.add(Activation(\"relu\"))\n",
    "\n",
    "model.add(Dense(60))\n",
    "model.add(Activation(\"relu\"))\n",
    "\n",
    "model.add(Dense(39))\n",
    "model.add(Activation(\"softmax\"))\n",
    "\n",
    "model.summary()"
   ]
  },
  {
   "cell_type": "code",
   "execution_count": 26,
   "metadata": {
    "execution": {
     "iopub.execute_input": "2020-11-10T18:30:49.230636Z",
     "iopub.status.busy": "2020-11-10T18:30:49.229786Z",
     "iopub.status.idle": "2020-11-10T18:30:49.237159Z",
     "shell.execute_reply": "2020-11-10T18:30:49.237748Z"
    },
    "papermill": {
     "duration": 0.063706,
     "end_time": "2020-11-10T18:30:49.237924",
     "exception": false,
     "start_time": "2020-11-10T18:30:49.174218",
     "status": "completed"
    },
    "tags": []
   },
   "outputs": [],
   "source": [
    "model.compile(optimizer='adam',\n",
    "             loss = \"categorical_crossentropy\",\n",
    "             metrics=['accuracy'])\n"
   ]
  },
  {
   "cell_type": "code",
   "execution_count": 27,
   "metadata": {
    "execution": {
     "iopub.execute_input": "2020-11-10T18:30:49.329780Z",
     "iopub.status.busy": "2020-11-10T18:30:49.328946Z",
     "iopub.status.idle": "2020-11-10T18:32:32.107520Z",
     "shell.execute_reply": "2020-11-10T18:32:32.106844Z"
    },
    "papermill": {
     "duration": 102.827134,
     "end_time": "2020-11-10T18:32:32.107674",
     "exception": false,
     "start_time": "2020-11-10T18:30:49.280540",
     "status": "completed"
    },
    "tags": []
   },
   "outputs": [
    {
     "name": "stdout",
     "output_type": "stream",
     "text": [
      "Epoch 1/10\n",
      "3175/3175 - 10s - loss: 3.8624 - accuracy: 0.1852 - val_loss: 2.6844 - val_accuracy: 0.2180\n",
      "Epoch 2/10\n",
      "3175/3175 - 10s - loss: 2.6597 - accuracy: 0.2170 - val_loss: 2.6841 - val_accuracy: 0.2175\n",
      "Epoch 3/10\n",
      "3175/3175 - 12s - loss: 2.6260 - accuracy: 0.2228 - val_loss: 2.6439 - val_accuracy: 0.2128\n",
      "Epoch 4/10\n",
      "3175/3175 - 12s - loss: 2.6051 - accuracy: 0.2262 - val_loss: 2.5998 - val_accuracy: 0.2198\n",
      "Epoch 5/10\n",
      "3175/3175 - 9s - loss: 2.5895 - accuracy: 0.2289 - val_loss: 2.5702 - val_accuracy: 0.2320\n",
      "Epoch 6/10\n",
      "3175/3175 - 9s - loss: 2.5789 - accuracy: 0.2305 - val_loss: 2.5666 - val_accuracy: 0.2325\n",
      "Epoch 7/10\n",
      "3175/3175 - 10s - loss: 2.5714 - accuracy: 0.2326 - val_loss: 2.5726 - val_accuracy: 0.2346\n",
      "Epoch 8/10\n",
      "3175/3175 - 10s - loss: 2.5670 - accuracy: 0.2332 - val_loss: 2.5842 - val_accuracy: 0.2299\n",
      "Epoch 9/10\n",
      "3175/3175 - 10s - loss: 2.5635 - accuracy: 0.2337 - val_loss: 2.5662 - val_accuracy: 0.2334\n",
      "Epoch 10/10\n",
      "3175/3175 - 10s - loss: 2.5594 - accuracy: 0.2340 - val_loss: 2.5630 - val_accuracy: 0.2314\n"
     ]
    },
    {
     "data": {
      "text/plain": [
       "<tensorflow.python.keras.callbacks.History at 0x7f5f6ce23390>"
      ]
     },
     "execution_count": 27,
     "metadata": {},
     "output_type": "execute_result"
    }
   ],
   "source": [
    "model.fit(X,Y,\n",
    "         batch_size=256,\n",
    "         epochs = 10,\n",
    "         verbose = 2,\n",
    "         validation_data=(X_train,Y_train))"
   ]
  },
  {
   "cell_type": "code",
   "execution_count": 28,
   "metadata": {
    "execution": {
     "iopub.execute_input": "2020-11-10T18:32:32.222932Z",
     "iopub.status.busy": "2020-11-10T18:32:32.221174Z",
     "iopub.status.idle": "2020-11-10T18:32:50.450879Z",
     "shell.execute_reply": "2020-11-10T18:32:50.450057Z"
    },
    "papermill": {
     "duration": 18.289827,
     "end_time": "2020-11-10T18:32:50.451020",
     "exception": false,
     "start_time": "2020-11-10T18:32:32.161193",
     "status": "completed"
    },
    "tags": []
   },
   "outputs": [
    {
     "data": {
      "text/html": [
       "<div>\n",
       "<style scoped>\n",
       "    .dataframe tbody tr th:only-of-type {\n",
       "        vertical-align: middle;\n",
       "    }\n",
       "\n",
       "    .dataframe tbody tr th {\n",
       "        vertical-align: top;\n",
       "    }\n",
       "\n",
       "    .dataframe thead th {\n",
       "        text-align: right;\n",
       "    }\n",
       "</style>\n",
       "<table border=\"1\" class=\"dataframe\">\n",
       "  <thead>\n",
       "    <tr style=\"text-align: right;\">\n",
       "      <th></th>\n",
       "      <th>ARSON</th>\n",
       "      <th>ASSAULT</th>\n",
       "      <th>BAD CHECKS</th>\n",
       "      <th>BRIBERY</th>\n",
       "      <th>BURGLARY</th>\n",
       "      <th>DISORDERLY CONDUCT</th>\n",
       "      <th>DRIVING UNDER THE INFLUENCE</th>\n",
       "      <th>DRUG/NARCOTIC</th>\n",
       "      <th>DRUNKENNESS</th>\n",
       "      <th>EMBEZZLEMENT</th>\n",
       "      <th>...</th>\n",
       "      <th>SEX OFFENSES NON FORCIBLE</th>\n",
       "      <th>STOLEN PROPERTY</th>\n",
       "      <th>SUICIDE</th>\n",
       "      <th>SUSPICIOUS OCC</th>\n",
       "      <th>TREA</th>\n",
       "      <th>TRESPASS</th>\n",
       "      <th>VANDALISM</th>\n",
       "      <th>VEHICLE THEFT</th>\n",
       "      <th>WARRANTS</th>\n",
       "      <th>WEAPON LAWS</th>\n",
       "    </tr>\n",
       "  </thead>\n",
       "  <tbody>\n",
       "    <tr>\n",
       "      <th>0</th>\n",
       "      <td>0.002691</td>\n",
       "      <td>0.115082</td>\n",
       "      <td>0.000078</td>\n",
       "      <td>0.000838</td>\n",
       "      <td>0.045949</td>\n",
       "      <td>0.002044</td>\n",
       "      <td>0.001475</td>\n",
       "      <td>0.027865</td>\n",
       "      <td>0.003979</td>\n",
       "      <td>0.000220</td>\n",
       "      <td>...</td>\n",
       "      <td>0.000178</td>\n",
       "      <td>0.006398</td>\n",
       "      <td>0.000289</td>\n",
       "      <td>0.039085</td>\n",
       "      <td>2.065927e-06</td>\n",
       "      <td>0.004245</td>\n",
       "      <td>0.093040</td>\n",
       "      <td>0.085450</td>\n",
       "      <td>0.037414</td>\n",
       "      <td>0.016950</td>\n",
       "    </tr>\n",
       "    <tr>\n",
       "      <th>1</th>\n",
       "      <td>0.001966</td>\n",
       "      <td>0.084562</td>\n",
       "      <td>0.000014</td>\n",
       "      <td>0.000426</td>\n",
       "      <td>0.002700</td>\n",
       "      <td>0.001995</td>\n",
       "      <td>0.003677</td>\n",
       "      <td>0.034724</td>\n",
       "      <td>0.004888</td>\n",
       "      <td>0.000025</td>\n",
       "      <td>...</td>\n",
       "      <td>0.000076</td>\n",
       "      <td>0.005683</td>\n",
       "      <td>0.000032</td>\n",
       "      <td>0.026596</td>\n",
       "      <td>1.963344e-07</td>\n",
       "      <td>0.000755</td>\n",
       "      <td>0.074874</td>\n",
       "      <td>0.102674</td>\n",
       "      <td>0.046982</td>\n",
       "      <td>0.016963</td>\n",
       "    </tr>\n",
       "    <tr>\n",
       "      <th>2</th>\n",
       "      <td>0.001971</td>\n",
       "      <td>0.102529</td>\n",
       "      <td>0.000089</td>\n",
       "      <td>0.000528</td>\n",
       "      <td>0.051623</td>\n",
       "      <td>0.001926</td>\n",
       "      <td>0.001250</td>\n",
       "      <td>0.027499</td>\n",
       "      <td>0.004237</td>\n",
       "      <td>0.000247</td>\n",
       "      <td>...</td>\n",
       "      <td>0.000113</td>\n",
       "      <td>0.006532</td>\n",
       "      <td>0.000283</td>\n",
       "      <td>0.033511</td>\n",
       "      <td>1.960370e-06</td>\n",
       "      <td>0.004575</td>\n",
       "      <td>0.088343</td>\n",
       "      <td>0.073734</td>\n",
       "      <td>0.036687</td>\n",
       "      <td>0.011392</td>\n",
       "    </tr>\n",
       "    <tr>\n",
       "      <th>3</th>\n",
       "      <td>0.002234</td>\n",
       "      <td>0.110609</td>\n",
       "      <td>0.000034</td>\n",
       "      <td>0.000487</td>\n",
       "      <td>0.040858</td>\n",
       "      <td>0.000929</td>\n",
       "      <td>0.001075</td>\n",
       "      <td>0.020946</td>\n",
       "      <td>0.002392</td>\n",
       "      <td>0.000113</td>\n",
       "      <td>...</td>\n",
       "      <td>0.000100</td>\n",
       "      <td>0.005119</td>\n",
       "      <td>0.000191</td>\n",
       "      <td>0.038256</td>\n",
       "      <td>3.875634e-07</td>\n",
       "      <td>0.002761</td>\n",
       "      <td>0.108412</td>\n",
       "      <td>0.122097</td>\n",
       "      <td>0.028656</td>\n",
       "      <td>0.015741</td>\n",
       "    </tr>\n",
       "    <tr>\n",
       "      <th>4</th>\n",
       "      <td>0.002234</td>\n",
       "      <td>0.110609</td>\n",
       "      <td>0.000034</td>\n",
       "      <td>0.000487</td>\n",
       "      <td>0.040858</td>\n",
       "      <td>0.000929</td>\n",
       "      <td>0.001075</td>\n",
       "      <td>0.020946</td>\n",
       "      <td>0.002392</td>\n",
       "      <td>0.000113</td>\n",
       "      <td>...</td>\n",
       "      <td>0.000100</td>\n",
       "      <td>0.005119</td>\n",
       "      <td>0.000191</td>\n",
       "      <td>0.038256</td>\n",
       "      <td>3.875634e-07</td>\n",
       "      <td>0.002761</td>\n",
       "      <td>0.108412</td>\n",
       "      <td>0.122097</td>\n",
       "      <td>0.028656</td>\n",
       "      <td>0.015741</td>\n",
       "    </tr>\n",
       "    <tr>\n",
       "      <th>...</th>\n",
       "      <td>...</td>\n",
       "      <td>...</td>\n",
       "      <td>...</td>\n",
       "      <td>...</td>\n",
       "      <td>...</td>\n",
       "      <td>...</td>\n",
       "      <td>...</td>\n",
       "      <td>...</td>\n",
       "      <td>...</td>\n",
       "      <td>...</td>\n",
       "      <td>...</td>\n",
       "      <td>...</td>\n",
       "      <td>...</td>\n",
       "      <td>...</td>\n",
       "      <td>...</td>\n",
       "      <td>...</td>\n",
       "      <td>...</td>\n",
       "      <td>...</td>\n",
       "      <td>...</td>\n",
       "      <td>...</td>\n",
       "      <td>...</td>\n",
       "    </tr>\n",
       "    <tr>\n",
       "      <th>884257</th>\n",
       "      <td>0.007636</td>\n",
       "      <td>0.127622</td>\n",
       "      <td>0.002335</td>\n",
       "      <td>0.000941</td>\n",
       "      <td>0.035741</td>\n",
       "      <td>0.027288</td>\n",
       "      <td>0.004793</td>\n",
       "      <td>0.055727</td>\n",
       "      <td>0.011226</td>\n",
       "      <td>0.004416</td>\n",
       "      <td>...</td>\n",
       "      <td>0.000878</td>\n",
       "      <td>0.005849</td>\n",
       "      <td>0.001537</td>\n",
       "      <td>0.041393</td>\n",
       "      <td>1.234776e-06</td>\n",
       "      <td>0.019020</td>\n",
       "      <td>0.050875</td>\n",
       "      <td>0.035806</td>\n",
       "      <td>0.059155</td>\n",
       "      <td>0.012814</td>\n",
       "    </tr>\n",
       "    <tr>\n",
       "      <th>884258</th>\n",
       "      <td>0.006124</td>\n",
       "      <td>0.108175</td>\n",
       "      <td>0.002283</td>\n",
       "      <td>0.000794</td>\n",
       "      <td>0.029247</td>\n",
       "      <td>0.018379</td>\n",
       "      <td>0.005503</td>\n",
       "      <td>0.040446</td>\n",
       "      <td>0.009903</td>\n",
       "      <td>0.003693</td>\n",
       "      <td>...</td>\n",
       "      <td>0.000653</td>\n",
       "      <td>0.008267</td>\n",
       "      <td>0.001099</td>\n",
       "      <td>0.045618</td>\n",
       "      <td>8.326831e-06</td>\n",
       "      <td>0.014082</td>\n",
       "      <td>0.049057</td>\n",
       "      <td>0.035053</td>\n",
       "      <td>0.056554</td>\n",
       "      <td>0.010960</td>\n",
       "    </tr>\n",
       "    <tr>\n",
       "      <th>884259</th>\n",
       "      <td>0.008708</td>\n",
       "      <td>0.128205</td>\n",
       "      <td>0.001202</td>\n",
       "      <td>0.000722</td>\n",
       "      <td>0.047656</td>\n",
       "      <td>0.009239</td>\n",
       "      <td>0.004747</td>\n",
       "      <td>0.022917</td>\n",
       "      <td>0.006166</td>\n",
       "      <td>0.002143</td>\n",
       "      <td>...</td>\n",
       "      <td>0.000777</td>\n",
       "      <td>0.005653</td>\n",
       "      <td>0.001471</td>\n",
       "      <td>0.043960</td>\n",
       "      <td>1.473533e-06</td>\n",
       "      <td>0.009578</td>\n",
       "      <td>0.080859</td>\n",
       "      <td>0.087327</td>\n",
       "      <td>0.036903</td>\n",
       "      <td>0.012904</td>\n",
       "    </tr>\n",
       "    <tr>\n",
       "      <th>884260</th>\n",
       "      <td>0.010591</td>\n",
       "      <td>0.123129</td>\n",
       "      <td>0.002432</td>\n",
       "      <td>0.001325</td>\n",
       "      <td>0.044365</td>\n",
       "      <td>0.020145</td>\n",
       "      <td>0.007509</td>\n",
       "      <td>0.030476</td>\n",
       "      <td>0.010419</td>\n",
       "      <td>0.003923</td>\n",
       "      <td>...</td>\n",
       "      <td>0.001374</td>\n",
       "      <td>0.007052</td>\n",
       "      <td>0.002195</td>\n",
       "      <td>0.042506</td>\n",
       "      <td>7.479477e-06</td>\n",
       "      <td>0.014211</td>\n",
       "      <td>0.065547</td>\n",
       "      <td>0.055539</td>\n",
       "      <td>0.044671</td>\n",
       "      <td>0.013510</td>\n",
       "    </tr>\n",
       "    <tr>\n",
       "      <th>884261</th>\n",
       "      <td>0.007285</td>\n",
       "      <td>0.122618</td>\n",
       "      <td>0.001527</td>\n",
       "      <td>0.000708</td>\n",
       "      <td>0.063073</td>\n",
       "      <td>0.008091</td>\n",
       "      <td>0.003688</td>\n",
       "      <td>0.021985</td>\n",
       "      <td>0.005407</td>\n",
       "      <td>0.002826</td>\n",
       "      <td>...</td>\n",
       "      <td>0.000706</td>\n",
       "      <td>0.006301</td>\n",
       "      <td>0.001555</td>\n",
       "      <td>0.048606</td>\n",
       "      <td>3.768672e-06</td>\n",
       "      <td>0.011619</td>\n",
       "      <td>0.073156</td>\n",
       "      <td>0.070358</td>\n",
       "      <td>0.036592</td>\n",
       "      <td>0.012003</td>\n",
       "    </tr>\n",
       "  </tbody>\n",
       "</table>\n",
       "<p>884262 rows × 39 columns</p>\n",
       "</div>"
      ],
      "text/plain": [
       "           ARSON   ASSAULT  BAD CHECKS   BRIBERY  BURGLARY  \\\n",
       "0       0.002691  0.115082    0.000078  0.000838  0.045949   \n",
       "1       0.001966  0.084562    0.000014  0.000426  0.002700   \n",
       "2       0.001971  0.102529    0.000089  0.000528  0.051623   \n",
       "3       0.002234  0.110609    0.000034  0.000487  0.040858   \n",
       "4       0.002234  0.110609    0.000034  0.000487  0.040858   \n",
       "...          ...       ...         ...       ...       ...   \n",
       "884257  0.007636  0.127622    0.002335  0.000941  0.035741   \n",
       "884258  0.006124  0.108175    0.002283  0.000794  0.029247   \n",
       "884259  0.008708  0.128205    0.001202  0.000722  0.047656   \n",
       "884260  0.010591  0.123129    0.002432  0.001325  0.044365   \n",
       "884261  0.007285  0.122618    0.001527  0.000708  0.063073   \n",
       "\n",
       "        DISORDERLY CONDUCT  DRIVING UNDER THE INFLUENCE  DRUG/NARCOTIC  \\\n",
       "0                 0.002044                     0.001475       0.027865   \n",
       "1                 0.001995                     0.003677       0.034724   \n",
       "2                 0.001926                     0.001250       0.027499   \n",
       "3                 0.000929                     0.001075       0.020946   \n",
       "4                 0.000929                     0.001075       0.020946   \n",
       "...                    ...                          ...            ...   \n",
       "884257            0.027288                     0.004793       0.055727   \n",
       "884258            0.018379                     0.005503       0.040446   \n",
       "884259            0.009239                     0.004747       0.022917   \n",
       "884260            0.020145                     0.007509       0.030476   \n",
       "884261            0.008091                     0.003688       0.021985   \n",
       "\n",
       "        DRUNKENNESS  EMBEZZLEMENT  ...  SEX OFFENSES NON FORCIBLE  \\\n",
       "0          0.003979      0.000220  ...                   0.000178   \n",
       "1          0.004888      0.000025  ...                   0.000076   \n",
       "2          0.004237      0.000247  ...                   0.000113   \n",
       "3          0.002392      0.000113  ...                   0.000100   \n",
       "4          0.002392      0.000113  ...                   0.000100   \n",
       "...             ...           ...  ...                        ...   \n",
       "884257     0.011226      0.004416  ...                   0.000878   \n",
       "884258     0.009903      0.003693  ...                   0.000653   \n",
       "884259     0.006166      0.002143  ...                   0.000777   \n",
       "884260     0.010419      0.003923  ...                   0.001374   \n",
       "884261     0.005407      0.002826  ...                   0.000706   \n",
       "\n",
       "        STOLEN PROPERTY   SUICIDE  SUSPICIOUS OCC          TREA  TRESPASS  \\\n",
       "0              0.006398  0.000289        0.039085  2.065927e-06  0.004245   \n",
       "1              0.005683  0.000032        0.026596  1.963344e-07  0.000755   \n",
       "2              0.006532  0.000283        0.033511  1.960370e-06  0.004575   \n",
       "3              0.005119  0.000191        0.038256  3.875634e-07  0.002761   \n",
       "4              0.005119  0.000191        0.038256  3.875634e-07  0.002761   \n",
       "...                 ...       ...             ...           ...       ...   \n",
       "884257         0.005849  0.001537        0.041393  1.234776e-06  0.019020   \n",
       "884258         0.008267  0.001099        0.045618  8.326831e-06  0.014082   \n",
       "884259         0.005653  0.001471        0.043960  1.473533e-06  0.009578   \n",
       "884260         0.007052  0.002195        0.042506  7.479477e-06  0.014211   \n",
       "884261         0.006301  0.001555        0.048606  3.768672e-06  0.011619   \n",
       "\n",
       "        VANDALISM  VEHICLE THEFT  WARRANTS  WEAPON LAWS  \n",
       "0        0.093040       0.085450  0.037414     0.016950  \n",
       "1        0.074874       0.102674  0.046982     0.016963  \n",
       "2        0.088343       0.073734  0.036687     0.011392  \n",
       "3        0.108412       0.122097  0.028656     0.015741  \n",
       "4        0.108412       0.122097  0.028656     0.015741  \n",
       "...           ...            ...       ...          ...  \n",
       "884257   0.050875       0.035806  0.059155     0.012814  \n",
       "884258   0.049057       0.035053  0.056554     0.010960  \n",
       "884259   0.080859       0.087327  0.036903     0.012904  \n",
       "884260   0.065547       0.055539  0.044671     0.013510  \n",
       "884261   0.073156       0.070358  0.036592     0.012003  \n",
       "\n",
       "[884262 rows x 39 columns]"
      ]
     },
     "execution_count": 28,
     "metadata": {},
     "output_type": "execute_result"
    }
   ],
   "source": [
    "preds_vals = model.predict(test.drop(\"Id\",axis=1))\n",
    "preds = pd.DataFrame(data=preds_vals,columns=Y.columns)\n",
    "preds"
   ]
  },
  {
   "cell_type": "code",
   "execution_count": 29,
   "metadata": {
    "execution": {
     "iopub.execute_input": "2020-11-10T18:32:50.563050Z",
     "iopub.status.busy": "2020-11-10T18:32:50.562222Z",
     "iopub.status.idle": "2020-11-10T18:32:55.259577Z",
     "shell.execute_reply": "2020-11-10T18:32:55.258793Z"
    },
    "papermill": {
     "duration": 4.755877,
     "end_time": "2020-11-10T18:32:55.259714",
     "exception": false,
     "start_time": "2020-11-10T18:32:50.503837",
     "status": "completed"
    },
    "tags": []
   },
   "outputs": [
    {
     "data": {
      "text/html": [
       "<div>\n",
       "<style scoped>\n",
       "    .dataframe tbody tr th:only-of-type {\n",
       "        vertical-align: middle;\n",
       "    }\n",
       "\n",
       "    .dataframe tbody tr th {\n",
       "        vertical-align: top;\n",
       "    }\n",
       "\n",
       "    .dataframe thead th {\n",
       "        text-align: right;\n",
       "    }\n",
       "</style>\n",
       "<table border=\"1\" class=\"dataframe\">\n",
       "  <thead>\n",
       "    <tr style=\"text-align: right;\">\n",
       "      <th></th>\n",
       "      <th>ARSON</th>\n",
       "      <th>ASSAULT</th>\n",
       "      <th>BAD CHECKS</th>\n",
       "      <th>BRIBERY</th>\n",
       "      <th>BURGLARY</th>\n",
       "      <th>DISORDERLY CONDUCT</th>\n",
       "      <th>DRIVING UNDER THE INFLUENCE</th>\n",
       "      <th>DRUG/NARCOTIC</th>\n",
       "      <th>DRUNKENNESS</th>\n",
       "      <th>EMBEZZLEMENT</th>\n",
       "      <th>...</th>\n",
       "      <th>SEX OFFENSES NON FORCIBLE</th>\n",
       "      <th>STOLEN PROPERTY</th>\n",
       "      <th>SUICIDE</th>\n",
       "      <th>SUSPICIOUS OCC</th>\n",
       "      <th>TREA</th>\n",
       "      <th>TRESPASS</th>\n",
       "      <th>VANDALISM</th>\n",
       "      <th>VEHICLE THEFT</th>\n",
       "      <th>WARRANTS</th>\n",
       "      <th>WEAPON LAWS</th>\n",
       "    </tr>\n",
       "  </thead>\n",
       "  <tbody>\n",
       "    <tr>\n",
       "      <th>0</th>\n",
       "      <td>0</td>\n",
       "      <td>0</td>\n",
       "      <td>0</td>\n",
       "      <td>0</td>\n",
       "      <td>0</td>\n",
       "      <td>0</td>\n",
       "      <td>0</td>\n",
       "      <td>0</td>\n",
       "      <td>0</td>\n",
       "      <td>0</td>\n",
       "      <td>...</td>\n",
       "      <td>0</td>\n",
       "      <td>0</td>\n",
       "      <td>0</td>\n",
       "      <td>0</td>\n",
       "      <td>0</td>\n",
       "      <td>0</td>\n",
       "      <td>0</td>\n",
       "      <td>0</td>\n",
       "      <td>0</td>\n",
       "      <td>0</td>\n",
       "    </tr>\n",
       "    <tr>\n",
       "      <th>1</th>\n",
       "      <td>0</td>\n",
       "      <td>0</td>\n",
       "      <td>0</td>\n",
       "      <td>0</td>\n",
       "      <td>0</td>\n",
       "      <td>0</td>\n",
       "      <td>0</td>\n",
       "      <td>0</td>\n",
       "      <td>0</td>\n",
       "      <td>0</td>\n",
       "      <td>...</td>\n",
       "      <td>0</td>\n",
       "      <td>0</td>\n",
       "      <td>0</td>\n",
       "      <td>0</td>\n",
       "      <td>0</td>\n",
       "      <td>0</td>\n",
       "      <td>0</td>\n",
       "      <td>0</td>\n",
       "      <td>0</td>\n",
       "      <td>0</td>\n",
       "    </tr>\n",
       "    <tr>\n",
       "      <th>2</th>\n",
       "      <td>0</td>\n",
       "      <td>0</td>\n",
       "      <td>0</td>\n",
       "      <td>0</td>\n",
       "      <td>0</td>\n",
       "      <td>0</td>\n",
       "      <td>0</td>\n",
       "      <td>0</td>\n",
       "      <td>0</td>\n",
       "      <td>0</td>\n",
       "      <td>...</td>\n",
       "      <td>0</td>\n",
       "      <td>0</td>\n",
       "      <td>0</td>\n",
       "      <td>0</td>\n",
       "      <td>0</td>\n",
       "      <td>0</td>\n",
       "      <td>0</td>\n",
       "      <td>0</td>\n",
       "      <td>0</td>\n",
       "      <td>0</td>\n",
       "    </tr>\n",
       "    <tr>\n",
       "      <th>3</th>\n",
       "      <td>0</td>\n",
       "      <td>0</td>\n",
       "      <td>0</td>\n",
       "      <td>0</td>\n",
       "      <td>0</td>\n",
       "      <td>0</td>\n",
       "      <td>0</td>\n",
       "      <td>0</td>\n",
       "      <td>0</td>\n",
       "      <td>0</td>\n",
       "      <td>...</td>\n",
       "      <td>0</td>\n",
       "      <td>0</td>\n",
       "      <td>0</td>\n",
       "      <td>0</td>\n",
       "      <td>0</td>\n",
       "      <td>0</td>\n",
       "      <td>0</td>\n",
       "      <td>0</td>\n",
       "      <td>0</td>\n",
       "      <td>0</td>\n",
       "    </tr>\n",
       "    <tr>\n",
       "      <th>4</th>\n",
       "      <td>0</td>\n",
       "      <td>0</td>\n",
       "      <td>0</td>\n",
       "      <td>0</td>\n",
       "      <td>0</td>\n",
       "      <td>0</td>\n",
       "      <td>0</td>\n",
       "      <td>0</td>\n",
       "      <td>0</td>\n",
       "      <td>0</td>\n",
       "      <td>...</td>\n",
       "      <td>0</td>\n",
       "      <td>0</td>\n",
       "      <td>0</td>\n",
       "      <td>0</td>\n",
       "      <td>0</td>\n",
       "      <td>0</td>\n",
       "      <td>0</td>\n",
       "      <td>0</td>\n",
       "      <td>0</td>\n",
       "      <td>0</td>\n",
       "    </tr>\n",
       "    <tr>\n",
       "      <th>...</th>\n",
       "      <td>...</td>\n",
       "      <td>...</td>\n",
       "      <td>...</td>\n",
       "      <td>...</td>\n",
       "      <td>...</td>\n",
       "      <td>...</td>\n",
       "      <td>...</td>\n",
       "      <td>...</td>\n",
       "      <td>...</td>\n",
       "      <td>...</td>\n",
       "      <td>...</td>\n",
       "      <td>...</td>\n",
       "      <td>...</td>\n",
       "      <td>...</td>\n",
       "      <td>...</td>\n",
       "      <td>...</td>\n",
       "      <td>...</td>\n",
       "      <td>...</td>\n",
       "      <td>...</td>\n",
       "      <td>...</td>\n",
       "      <td>...</td>\n",
       "    </tr>\n",
       "    <tr>\n",
       "      <th>884257</th>\n",
       "      <td>0</td>\n",
       "      <td>0</td>\n",
       "      <td>0</td>\n",
       "      <td>0</td>\n",
       "      <td>0</td>\n",
       "      <td>0</td>\n",
       "      <td>0</td>\n",
       "      <td>0</td>\n",
       "      <td>0</td>\n",
       "      <td>0</td>\n",
       "      <td>...</td>\n",
       "      <td>0</td>\n",
       "      <td>0</td>\n",
       "      <td>0</td>\n",
       "      <td>0</td>\n",
       "      <td>0</td>\n",
       "      <td>0</td>\n",
       "      <td>0</td>\n",
       "      <td>0</td>\n",
       "      <td>0</td>\n",
       "      <td>0</td>\n",
       "    </tr>\n",
       "    <tr>\n",
       "      <th>884258</th>\n",
       "      <td>0</td>\n",
       "      <td>0</td>\n",
       "      <td>0</td>\n",
       "      <td>0</td>\n",
       "      <td>0</td>\n",
       "      <td>0</td>\n",
       "      <td>0</td>\n",
       "      <td>0</td>\n",
       "      <td>0</td>\n",
       "      <td>0</td>\n",
       "      <td>...</td>\n",
       "      <td>0</td>\n",
       "      <td>0</td>\n",
       "      <td>0</td>\n",
       "      <td>0</td>\n",
       "      <td>0</td>\n",
       "      <td>0</td>\n",
       "      <td>0</td>\n",
       "      <td>0</td>\n",
       "      <td>0</td>\n",
       "      <td>0</td>\n",
       "    </tr>\n",
       "    <tr>\n",
       "      <th>884259</th>\n",
       "      <td>0</td>\n",
       "      <td>0</td>\n",
       "      <td>0</td>\n",
       "      <td>0</td>\n",
       "      <td>0</td>\n",
       "      <td>0</td>\n",
       "      <td>0</td>\n",
       "      <td>0</td>\n",
       "      <td>0</td>\n",
       "      <td>0</td>\n",
       "      <td>...</td>\n",
       "      <td>0</td>\n",
       "      <td>0</td>\n",
       "      <td>0</td>\n",
       "      <td>0</td>\n",
       "      <td>0</td>\n",
       "      <td>0</td>\n",
       "      <td>0</td>\n",
       "      <td>0</td>\n",
       "      <td>0</td>\n",
       "      <td>0</td>\n",
       "    </tr>\n",
       "    <tr>\n",
       "      <th>884260</th>\n",
       "      <td>0</td>\n",
       "      <td>0</td>\n",
       "      <td>0</td>\n",
       "      <td>0</td>\n",
       "      <td>0</td>\n",
       "      <td>0</td>\n",
       "      <td>0</td>\n",
       "      <td>0</td>\n",
       "      <td>0</td>\n",
       "      <td>0</td>\n",
       "      <td>...</td>\n",
       "      <td>0</td>\n",
       "      <td>0</td>\n",
       "      <td>0</td>\n",
       "      <td>0</td>\n",
       "      <td>0</td>\n",
       "      <td>0</td>\n",
       "      <td>0</td>\n",
       "      <td>0</td>\n",
       "      <td>0</td>\n",
       "      <td>0</td>\n",
       "    </tr>\n",
       "    <tr>\n",
       "      <th>884261</th>\n",
       "      <td>0</td>\n",
       "      <td>1</td>\n",
       "      <td>0</td>\n",
       "      <td>0</td>\n",
       "      <td>0</td>\n",
       "      <td>0</td>\n",
       "      <td>0</td>\n",
       "      <td>0</td>\n",
       "      <td>0</td>\n",
       "      <td>0</td>\n",
       "      <td>...</td>\n",
       "      <td>0</td>\n",
       "      <td>0</td>\n",
       "      <td>0</td>\n",
       "      <td>0</td>\n",
       "      <td>0</td>\n",
       "      <td>0</td>\n",
       "      <td>0</td>\n",
       "      <td>0</td>\n",
       "      <td>0</td>\n",
       "      <td>0</td>\n",
       "    </tr>\n",
       "  </tbody>\n",
       "</table>\n",
       "<p>884262 rows × 39 columns</p>\n",
       "</div>"
      ],
      "text/plain": [
       "        ARSON  ASSAULT  BAD CHECKS  BRIBERY  BURGLARY  DISORDERLY CONDUCT  \\\n",
       "0           0        0           0        0         0                   0   \n",
       "1           0        0           0        0         0                   0   \n",
       "2           0        0           0        0         0                   0   \n",
       "3           0        0           0        0         0                   0   \n",
       "4           0        0           0        0         0                   0   \n",
       "...       ...      ...         ...      ...       ...                 ...   \n",
       "884257      0        0           0        0         0                   0   \n",
       "884258      0        0           0        0         0                   0   \n",
       "884259      0        0           0        0         0                   0   \n",
       "884260      0        0           0        0         0                   0   \n",
       "884261      0        1           0        0         0                   0   \n",
       "\n",
       "        DRIVING UNDER THE INFLUENCE  DRUG/NARCOTIC  DRUNKENNESS  EMBEZZLEMENT  \\\n",
       "0                                 0              0            0             0   \n",
       "1                                 0              0            0             0   \n",
       "2                                 0              0            0             0   \n",
       "3                                 0              0            0             0   \n",
       "4                                 0              0            0             0   \n",
       "...                             ...            ...          ...           ...   \n",
       "884257                            0              0            0             0   \n",
       "884258                            0              0            0             0   \n",
       "884259                            0              0            0             0   \n",
       "884260                            0              0            0             0   \n",
       "884261                            0              0            0             0   \n",
       "\n",
       "        ...  SEX OFFENSES NON FORCIBLE  STOLEN PROPERTY  SUICIDE  \\\n",
       "0       ...                          0                0        0   \n",
       "1       ...                          0                0        0   \n",
       "2       ...                          0                0        0   \n",
       "3       ...                          0                0        0   \n",
       "4       ...                          0                0        0   \n",
       "...     ...                        ...              ...      ...   \n",
       "884257  ...                          0                0        0   \n",
       "884258  ...                          0                0        0   \n",
       "884259  ...                          0                0        0   \n",
       "884260  ...                          0                0        0   \n",
       "884261  ...                          0                0        0   \n",
       "\n",
       "        SUSPICIOUS OCC  TREA  TRESPASS  VANDALISM  VEHICLE THEFT  WARRANTS  \\\n",
       "0                    0     0         0          0              0         0   \n",
       "1                    0     0         0          0              0         0   \n",
       "2                    0     0         0          0              0         0   \n",
       "3                    0     0         0          0              0         0   \n",
       "4                    0     0         0          0              0         0   \n",
       "...                ...   ...       ...        ...            ...       ...   \n",
       "884257               0     0         0          0              0         0   \n",
       "884258               0     0         0          0              0         0   \n",
       "884259               0     0         0          0              0         0   \n",
       "884260               0     0         0          0              0         0   \n",
       "884261               0     0         0          0              0         0   \n",
       "\n",
       "        WEAPON LAWS  \n",
       "0                 0  \n",
       "1                 0  \n",
       "2                 0  \n",
       "3                 0  \n",
       "4                 0  \n",
       "...             ...  \n",
       "884257            0  \n",
       "884258            0  \n",
       "884259            0  \n",
       "884260            0  \n",
       "884261            0  \n",
       "\n",
       "[884262 rows x 39 columns]"
      ]
     },
     "execution_count": 29,
     "metadata": {},
     "output_type": "execute_result"
    }
   ],
   "source": [
    "new_df = pd.DataFrame(np.where(preds.T == preds.T.max(), 1, 0),index=preds.columns).T\n",
    "new_df"
   ]
  },
  {
   "cell_type": "code",
   "execution_count": 30,
   "metadata": {
    "execution": {
     "iopub.execute_input": "2020-11-10T18:32:55.372297Z",
     "iopub.status.busy": "2020-11-10T18:32:55.371397Z",
     "iopub.status.idle": "2020-11-10T18:32:55.377651Z",
     "shell.execute_reply": "2020-11-10T18:32:55.377019Z"
    },
    "papermill": {
     "duration": 0.064558,
     "end_time": "2020-11-10T18:32:55.377791",
     "exception": false,
     "start_time": "2020-11-10T18:32:55.313233",
     "status": "completed"
    },
    "tags": []
   },
   "outputs": [],
   "source": [
    "new_df['Id'] = test[\"Id\"]"
   ]
  },
  {
   "cell_type": "code",
   "execution_count": 31,
   "metadata": {
    "execution": {
     "iopub.execute_input": "2020-11-10T18:32:55.493664Z",
     "iopub.status.busy": "2020-11-10T18:32:55.492875Z",
     "iopub.status.idle": "2020-11-10T18:32:56.212634Z",
     "shell.execute_reply": "2020-11-10T18:32:56.211917Z"
    },
    "papermill": {
     "duration": 0.780643,
     "end_time": "2020-11-10T18:32:56.212817",
     "exception": false,
     "start_time": "2020-11-10T18:32:55.432174",
     "status": "completed"
    },
    "tags": []
   },
   "outputs": [],
   "source": [
    "cols = list(new_df.columns)\n",
    "cols = [cols[-1]] + cols[:-1]\n",
    "new_df = new_df[cols]"
   ]
  },
  {
   "cell_type": "code",
   "execution_count": 32,
   "metadata": {
    "execution": {
     "iopub.execute_input": "2020-11-10T18:32:56.329944Z",
     "iopub.status.busy": "2020-11-10T18:32:56.328382Z",
     "iopub.status.idle": "2020-11-10T18:32:56.468806Z",
     "shell.execute_reply": "2020-11-10T18:32:56.468203Z"
    },
    "papermill": {
     "duration": 0.201588,
     "end_time": "2020-11-10T18:32:56.468931",
     "exception": false,
     "start_time": "2020-11-10T18:32:56.267343",
     "status": "completed"
    },
    "tags": []
   },
   "outputs": [
    {
     "data": {
      "text/html": [
       "<div>\n",
       "<style scoped>\n",
       "    .dataframe tbody tr th:only-of-type {\n",
       "        vertical-align: middle;\n",
       "    }\n",
       "\n",
       "    .dataframe tbody tr th {\n",
       "        vertical-align: top;\n",
       "    }\n",
       "\n",
       "    .dataframe thead th {\n",
       "        text-align: right;\n",
       "    }\n",
       "</style>\n",
       "<table border=\"1\" class=\"dataframe\">\n",
       "  <thead>\n",
       "    <tr style=\"text-align: right;\">\n",
       "      <th></th>\n",
       "      <th>Id</th>\n",
       "      <th>ARSON</th>\n",
       "      <th>ASSAULT</th>\n",
       "      <th>BAD CHECKS</th>\n",
       "      <th>BRIBERY</th>\n",
       "      <th>BURGLARY</th>\n",
       "      <th>DISORDERLY CONDUCT</th>\n",
       "      <th>DRIVING UNDER THE INFLUENCE</th>\n",
       "      <th>DRUG/NARCOTIC</th>\n",
       "      <th>DRUNKENNESS</th>\n",
       "      <th>...</th>\n",
       "      <th>SEX OFFENSES NON FORCIBLE</th>\n",
       "      <th>STOLEN PROPERTY</th>\n",
       "      <th>SUICIDE</th>\n",
       "      <th>SUSPICIOUS OCC</th>\n",
       "      <th>TREA</th>\n",
       "      <th>TRESPASS</th>\n",
       "      <th>VANDALISM</th>\n",
       "      <th>VEHICLE THEFT</th>\n",
       "      <th>WARRANTS</th>\n",
       "      <th>WEAPON LAWS</th>\n",
       "    </tr>\n",
       "  </thead>\n",
       "  <tbody>\n",
       "    <tr>\n",
       "      <th>0</th>\n",
       "      <td>0</td>\n",
       "      <td>0</td>\n",
       "      <td>0</td>\n",
       "      <td>0</td>\n",
       "      <td>0</td>\n",
       "      <td>0</td>\n",
       "      <td>0</td>\n",
       "      <td>0</td>\n",
       "      <td>0</td>\n",
       "      <td>0</td>\n",
       "      <td>...</td>\n",
       "      <td>0</td>\n",
       "      <td>0</td>\n",
       "      <td>0</td>\n",
       "      <td>0</td>\n",
       "      <td>0</td>\n",
       "      <td>0</td>\n",
       "      <td>0</td>\n",
       "      <td>0</td>\n",
       "      <td>0</td>\n",
       "      <td>0</td>\n",
       "    </tr>\n",
       "    <tr>\n",
       "      <th>1</th>\n",
       "      <td>1</td>\n",
       "      <td>0</td>\n",
       "      <td>0</td>\n",
       "      <td>0</td>\n",
       "      <td>0</td>\n",
       "      <td>0</td>\n",
       "      <td>0</td>\n",
       "      <td>0</td>\n",
       "      <td>0</td>\n",
       "      <td>0</td>\n",
       "      <td>...</td>\n",
       "      <td>0</td>\n",
       "      <td>0</td>\n",
       "      <td>0</td>\n",
       "      <td>0</td>\n",
       "      <td>0</td>\n",
       "      <td>0</td>\n",
       "      <td>0</td>\n",
       "      <td>0</td>\n",
       "      <td>0</td>\n",
       "      <td>0</td>\n",
       "    </tr>\n",
       "    <tr>\n",
       "      <th>2</th>\n",
       "      <td>2</td>\n",
       "      <td>0</td>\n",
       "      <td>0</td>\n",
       "      <td>0</td>\n",
       "      <td>0</td>\n",
       "      <td>0</td>\n",
       "      <td>0</td>\n",
       "      <td>0</td>\n",
       "      <td>0</td>\n",
       "      <td>0</td>\n",
       "      <td>...</td>\n",
       "      <td>0</td>\n",
       "      <td>0</td>\n",
       "      <td>0</td>\n",
       "      <td>0</td>\n",
       "      <td>0</td>\n",
       "      <td>0</td>\n",
       "      <td>0</td>\n",
       "      <td>0</td>\n",
       "      <td>0</td>\n",
       "      <td>0</td>\n",
       "    </tr>\n",
       "    <tr>\n",
       "      <th>3</th>\n",
       "      <td>3</td>\n",
       "      <td>0</td>\n",
       "      <td>0</td>\n",
       "      <td>0</td>\n",
       "      <td>0</td>\n",
       "      <td>0</td>\n",
       "      <td>0</td>\n",
       "      <td>0</td>\n",
       "      <td>0</td>\n",
       "      <td>0</td>\n",
       "      <td>...</td>\n",
       "      <td>0</td>\n",
       "      <td>0</td>\n",
       "      <td>0</td>\n",
       "      <td>0</td>\n",
       "      <td>0</td>\n",
       "      <td>0</td>\n",
       "      <td>0</td>\n",
       "      <td>0</td>\n",
       "      <td>0</td>\n",
       "      <td>0</td>\n",
       "    </tr>\n",
       "    <tr>\n",
       "      <th>4</th>\n",
       "      <td>4</td>\n",
       "      <td>0</td>\n",
       "      <td>0</td>\n",
       "      <td>0</td>\n",
       "      <td>0</td>\n",
       "      <td>0</td>\n",
       "      <td>0</td>\n",
       "      <td>0</td>\n",
       "      <td>0</td>\n",
       "      <td>0</td>\n",
       "      <td>...</td>\n",
       "      <td>0</td>\n",
       "      <td>0</td>\n",
       "      <td>0</td>\n",
       "      <td>0</td>\n",
       "      <td>0</td>\n",
       "      <td>0</td>\n",
       "      <td>0</td>\n",
       "      <td>0</td>\n",
       "      <td>0</td>\n",
       "      <td>0</td>\n",
       "    </tr>\n",
       "    <tr>\n",
       "      <th>...</th>\n",
       "      <td>...</td>\n",
       "      <td>...</td>\n",
       "      <td>...</td>\n",
       "      <td>...</td>\n",
       "      <td>...</td>\n",
       "      <td>...</td>\n",
       "      <td>...</td>\n",
       "      <td>...</td>\n",
       "      <td>...</td>\n",
       "      <td>...</td>\n",
       "      <td>...</td>\n",
       "      <td>...</td>\n",
       "      <td>...</td>\n",
       "      <td>...</td>\n",
       "      <td>...</td>\n",
       "      <td>...</td>\n",
       "      <td>...</td>\n",
       "      <td>...</td>\n",
       "      <td>...</td>\n",
       "      <td>...</td>\n",
       "      <td>...</td>\n",
       "    </tr>\n",
       "    <tr>\n",
       "      <th>884257</th>\n",
       "      <td>884257</td>\n",
       "      <td>0</td>\n",
       "      <td>0</td>\n",
       "      <td>0</td>\n",
       "      <td>0</td>\n",
       "      <td>0</td>\n",
       "      <td>0</td>\n",
       "      <td>0</td>\n",
       "      <td>0</td>\n",
       "      <td>0</td>\n",
       "      <td>...</td>\n",
       "      <td>0</td>\n",
       "      <td>0</td>\n",
       "      <td>0</td>\n",
       "      <td>0</td>\n",
       "      <td>0</td>\n",
       "      <td>0</td>\n",
       "      <td>0</td>\n",
       "      <td>0</td>\n",
       "      <td>0</td>\n",
       "      <td>0</td>\n",
       "    </tr>\n",
       "    <tr>\n",
       "      <th>884258</th>\n",
       "      <td>884258</td>\n",
       "      <td>0</td>\n",
       "      <td>0</td>\n",
       "      <td>0</td>\n",
       "      <td>0</td>\n",
       "      <td>0</td>\n",
       "      <td>0</td>\n",
       "      <td>0</td>\n",
       "      <td>0</td>\n",
       "      <td>0</td>\n",
       "      <td>...</td>\n",
       "      <td>0</td>\n",
       "      <td>0</td>\n",
       "      <td>0</td>\n",
       "      <td>0</td>\n",
       "      <td>0</td>\n",
       "      <td>0</td>\n",
       "      <td>0</td>\n",
       "      <td>0</td>\n",
       "      <td>0</td>\n",
       "      <td>0</td>\n",
       "    </tr>\n",
       "    <tr>\n",
       "      <th>884259</th>\n",
       "      <td>884259</td>\n",
       "      <td>0</td>\n",
       "      <td>0</td>\n",
       "      <td>0</td>\n",
       "      <td>0</td>\n",
       "      <td>0</td>\n",
       "      <td>0</td>\n",
       "      <td>0</td>\n",
       "      <td>0</td>\n",
       "      <td>0</td>\n",
       "      <td>...</td>\n",
       "      <td>0</td>\n",
       "      <td>0</td>\n",
       "      <td>0</td>\n",
       "      <td>0</td>\n",
       "      <td>0</td>\n",
       "      <td>0</td>\n",
       "      <td>0</td>\n",
       "      <td>0</td>\n",
       "      <td>0</td>\n",
       "      <td>0</td>\n",
       "    </tr>\n",
       "    <tr>\n",
       "      <th>884260</th>\n",
       "      <td>884260</td>\n",
       "      <td>0</td>\n",
       "      <td>0</td>\n",
       "      <td>0</td>\n",
       "      <td>0</td>\n",
       "      <td>0</td>\n",
       "      <td>0</td>\n",
       "      <td>0</td>\n",
       "      <td>0</td>\n",
       "      <td>0</td>\n",
       "      <td>...</td>\n",
       "      <td>0</td>\n",
       "      <td>0</td>\n",
       "      <td>0</td>\n",
       "      <td>0</td>\n",
       "      <td>0</td>\n",
       "      <td>0</td>\n",
       "      <td>0</td>\n",
       "      <td>0</td>\n",
       "      <td>0</td>\n",
       "      <td>0</td>\n",
       "    </tr>\n",
       "    <tr>\n",
       "      <th>884261</th>\n",
       "      <td>884261</td>\n",
       "      <td>0</td>\n",
       "      <td>1</td>\n",
       "      <td>0</td>\n",
       "      <td>0</td>\n",
       "      <td>0</td>\n",
       "      <td>0</td>\n",
       "      <td>0</td>\n",
       "      <td>0</td>\n",
       "      <td>0</td>\n",
       "      <td>...</td>\n",
       "      <td>0</td>\n",
       "      <td>0</td>\n",
       "      <td>0</td>\n",
       "      <td>0</td>\n",
       "      <td>0</td>\n",
       "      <td>0</td>\n",
       "      <td>0</td>\n",
       "      <td>0</td>\n",
       "      <td>0</td>\n",
       "      <td>0</td>\n",
       "    </tr>\n",
       "  </tbody>\n",
       "</table>\n",
       "<p>884262 rows × 40 columns</p>\n",
       "</div>"
      ],
      "text/plain": [
       "            Id  ARSON  ASSAULT  BAD CHECKS  BRIBERY  BURGLARY  \\\n",
       "0            0      0        0           0        0         0   \n",
       "1            1      0        0           0        0         0   \n",
       "2            2      0        0           0        0         0   \n",
       "3            3      0        0           0        0         0   \n",
       "4            4      0        0           0        0         0   \n",
       "...        ...    ...      ...         ...      ...       ...   \n",
       "884257  884257      0        0           0        0         0   \n",
       "884258  884258      0        0           0        0         0   \n",
       "884259  884259      0        0           0        0         0   \n",
       "884260  884260      0        0           0        0         0   \n",
       "884261  884261      0        1           0        0         0   \n",
       "\n",
       "        DISORDERLY CONDUCT  DRIVING UNDER THE INFLUENCE  DRUG/NARCOTIC  \\\n",
       "0                        0                            0              0   \n",
       "1                        0                            0              0   \n",
       "2                        0                            0              0   \n",
       "3                        0                            0              0   \n",
       "4                        0                            0              0   \n",
       "...                    ...                          ...            ...   \n",
       "884257                   0                            0              0   \n",
       "884258                   0                            0              0   \n",
       "884259                   0                            0              0   \n",
       "884260                   0                            0              0   \n",
       "884261                   0                            0              0   \n",
       "\n",
       "        DRUNKENNESS  ...  SEX OFFENSES NON FORCIBLE  STOLEN PROPERTY  SUICIDE  \\\n",
       "0                 0  ...                          0                0        0   \n",
       "1                 0  ...                          0                0        0   \n",
       "2                 0  ...                          0                0        0   \n",
       "3                 0  ...                          0                0        0   \n",
       "4                 0  ...                          0                0        0   \n",
       "...             ...  ...                        ...              ...      ...   \n",
       "884257            0  ...                          0                0        0   \n",
       "884258            0  ...                          0                0        0   \n",
       "884259            0  ...                          0                0        0   \n",
       "884260            0  ...                          0                0        0   \n",
       "884261            0  ...                          0                0        0   \n",
       "\n",
       "        SUSPICIOUS OCC  TREA  TRESPASS  VANDALISM  VEHICLE THEFT  WARRANTS  \\\n",
       "0                    0     0         0          0              0         0   \n",
       "1                    0     0         0          0              0         0   \n",
       "2                    0     0         0          0              0         0   \n",
       "3                    0     0         0          0              0         0   \n",
       "4                    0     0         0          0              0         0   \n",
       "...                ...   ...       ...        ...            ...       ...   \n",
       "884257               0     0         0          0              0         0   \n",
       "884258               0     0         0          0              0         0   \n",
       "884259               0     0         0          0              0         0   \n",
       "884260               0     0         0          0              0         0   \n",
       "884261               0     0         0          0              0         0   \n",
       "\n",
       "        WEAPON LAWS  \n",
       "0                 0  \n",
       "1                 0  \n",
       "2                 0  \n",
       "3                 0  \n",
       "4                 0  \n",
       "...             ...  \n",
       "884257            0  \n",
       "884258            0  \n",
       "884259            0  \n",
       "884260            0  \n",
       "884261            0  \n",
       "\n",
       "[884262 rows x 40 columns]"
      ]
     },
     "execution_count": 32,
     "metadata": {},
     "output_type": "execute_result"
    }
   ],
   "source": [
    "new_df"
   ]
  },
  {
   "cell_type": "code",
   "execution_count": 33,
   "metadata": {
    "execution": {
     "iopub.execute_input": "2020-11-10T18:32:56.584746Z",
     "iopub.status.busy": "2020-11-10T18:32:56.583936Z",
     "iopub.status.idle": "2020-11-10T18:33:06.405210Z",
     "shell.execute_reply": "2020-11-10T18:33:06.404347Z"
    },
    "papermill": {
     "duration": 9.881466,
     "end_time": "2020-11-10T18:33:06.405371",
     "exception": false,
     "start_time": "2020-11-10T18:32:56.523905",
     "status": "completed"
    },
    "tags": []
   },
   "outputs": [],
   "source": [
    "new_df.to_csv('../working/submission.csv', index=False)"
   ]
  }
 ],
 "metadata": {
  "kernelspec": {
   "display_name": "Python 3",
   "language": "python",
   "name": "python3"
  },
  "language_info": {
   "codemirror_mode": {
    "name": "ipython",
    "version": 3
   },
   "file_extension": ".py",
   "mimetype": "text/x-python",
   "name": "python",
   "nbconvert_exporter": "python",
   "pygments_lexer": "ipython3",
   "version": "3.7.6"
  },
  "papermill": {
   "duration": 214.712935,
   "end_time": "2020-11-10T18:33:06.569692",
   "environment_variables": {},
   "exception": null,
   "input_path": "__notebook__.ipynb",
   "output_path": "__notebook__.ipynb",
   "parameters": {},
   "start_time": "2020-11-10T18:29:31.856757",
   "version": "2.1.0"
  }
 },
 "nbformat": 4,
 "nbformat_minor": 4
}
