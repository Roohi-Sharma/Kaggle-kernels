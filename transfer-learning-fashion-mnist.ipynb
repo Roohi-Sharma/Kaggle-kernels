{
 "cells": [
  {
   "cell_type": "code",
   "execution_count": 1,
   "metadata": {
    "_cell_guid": "1b2c338a-ef5b-404c-8ad4-9e4877c0e5af",
    "_uuid": "50095cef-a429-4cf3-a1d2-134b51fd7388",
    "execution": {
     "iopub.execute_input": "2020-11-16T17:57:29.051895Z",
     "iopub.status.busy": "2020-11-16T17:57:29.051081Z",
     "iopub.status.idle": "2020-11-16T17:57:34.433375Z",
     "shell.execute_reply": "2020-11-16T17:57:34.431908Z"
    },
    "papermill": {
     "duration": 5.402626,
     "end_time": "2020-11-16T17:57:34.433503",
     "exception": false,
     "start_time": "2020-11-16T17:57:29.030877",
     "status": "completed"
    },
    "tags": []
   },
   "outputs": [],
   "source": [
    "import numpy as np \n",
    "import pandas as pd \n",
    "from tensorflow import keras\n",
    "\n",
    "# Input data files are available in the read-only \"../input/\" directory\n",
    "# For example, running this (by clicking run or pressing Shift+Enter) will list all files under the input directory\n",
    "\n",
    "import os\n",
    "for dirname, _, filenames in os.walk('/kaggle/input'):\n",
    "    for filename in filenames:\n",
    "        print(os.path.join(dirname, filename))\n",
    "\n",
    "# You can write up to 5GB to the current directory (/kaggle/working/) that gets preserved as output when you create a version using \"Save & Run All\" \n",
    "# You can also write temporary files to /kaggle/temp/, but they won't be saved outside of the current session"
   ]
  },
  {
   "cell_type": "markdown",
   "metadata": {
    "_cell_guid": "1c00f968-935f-4102-99fa-1022361e64df",
    "_uuid": "a8ec0d32-a786-4e73-9ac6-7ff89256756d",
    "papermill": {
     "duration": 0.012294,
     "end_time": "2020-11-16T17:57:34.459023",
     "exception": false,
     "start_time": "2020-11-16T17:57:34.446729",
     "status": "completed"
    },
    "tags": []
   },
   "source": [
    "**Loading Dataset**"
   ]
  },
  {
   "cell_type": "code",
   "execution_count": 2,
   "metadata": {
    "_cell_guid": "56a0a07f-3f7b-4b07-a1fb-2d29754bdb70",
    "_uuid": "c52ea619-6a4e-45ce-88e5-399475349395",
    "execution": {
     "iopub.execute_input": "2020-11-16T17:57:34.489294Z",
     "iopub.status.busy": "2020-11-16T17:57:34.488474Z",
     "iopub.status.idle": "2020-11-16T17:57:36.201022Z",
     "shell.execute_reply": "2020-11-16T17:57:36.201612Z"
    },
    "papermill": {
     "duration": 1.73025,
     "end_time": "2020-11-16T17:57:36.201802",
     "exception": false,
     "start_time": "2020-11-16T17:57:34.471552",
     "status": "completed"
    },
    "tags": []
   },
   "outputs": [
    {
     "name": "stdout",
     "output_type": "stream",
     "text": [
      "Downloading data from https://storage.googleapis.com/tensorflow/tf-keras-datasets/train-labels-idx1-ubyte.gz\n",
      "32768/29515 [=================================] - 0s 0us/step\n",
      "Downloading data from https://storage.googleapis.com/tensorflow/tf-keras-datasets/train-images-idx3-ubyte.gz\n",
      "26427392/26421880 [==============================] - 1s 0us/step\n",
      "Downloading data from https://storage.googleapis.com/tensorflow/tf-keras-datasets/t10k-labels-idx1-ubyte.gz\n",
      "8192/5148 [===============================================] - 0s 0us/step\n",
      "Downloading data from https://storage.googleapis.com/tensorflow/tf-keras-datasets/t10k-images-idx3-ubyte.gz\n",
      "4423680/4422102 [==============================] - 0s 0us/step\n"
     ]
    }
   ],
   "source": [
    "fashion_mnist=keras.datasets.fashion_mnist\n",
    "(train_images,train_label),(test_images,test_label)=fashion_mnist.load_data()"
   ]
  },
  {
   "cell_type": "code",
   "execution_count": 3,
   "metadata": {
    "_cell_guid": "89d39b2e-2832-446a-b3b2-e0e88a1e97d7",
    "_uuid": "1d711c01-9ac3-4844-96b7-542def90cb75",
    "execution": {
     "iopub.execute_input": "2020-11-16T17:57:36.262032Z",
     "iopub.status.busy": "2020-11-16T17:57:36.259214Z",
     "iopub.status.idle": "2020-11-16T17:57:36.265162Z",
     "shell.execute_reply": "2020-11-16T17:57:36.262845Z"
    },
    "papermill": {
     "duration": 0.037364,
     "end_time": "2020-11-16T17:57:36.265307",
     "exception": false,
     "start_time": "2020-11-16T17:57:36.227943",
     "status": "completed"
    },
    "tags": []
   },
   "outputs": [
    {
     "name": "stdout",
     "output_type": "stream",
     "text": [
      "60000 60000\n",
      "10000 10000\n"
     ]
    }
   ],
   "source": [
    "print(len(train_images),len(train_label))\n",
    "print(len(test_images),len(test_label))"
   ]
  },
  {
   "cell_type": "markdown",
   "metadata": {
    "_cell_guid": "a15b359c-256b-452d-a5a1-deb753bb97bf",
    "_uuid": "efb03c5e-398a-4309-badb-37287e617db2",
    "papermill": {
     "duration": 0.024739,
     "end_time": "2020-11-16T17:57:36.316199",
     "exception": false,
     "start_time": "2020-11-16T17:57:36.291460",
     "status": "completed"
    },
    "tags": []
   },
   "source": [
    "After Creating pt_x_train, tl_x_train, pt_x_test,tl_x_test\n",
    "* Shape of pt_x_train=(30000,28,28)\n",
    "* Shape of tl_x_train=(30000,28,28)\n",
    "* Shape of pt_x_test=(5000,28,28)\n",
    "* Shape of tl_x_test=(5000,28,28)"
   ]
  },
  {
   "cell_type": "code",
   "execution_count": 4,
   "metadata": {
    "_cell_guid": "eec6e26a-6055-4fb8-b1ef-b30f6d30a410",
    "_uuid": "ee1cd1a4-9573-4ede-bd7d-04edb2f4a425",
    "execution": {
     "iopub.execute_input": "2020-11-16T17:57:36.378924Z",
     "iopub.status.busy": "2020-11-16T17:57:36.377959Z",
     "iopub.status.idle": "2020-11-16T17:57:36.380388Z",
     "shell.execute_reply": "2020-11-16T17:57:36.379715Z"
    },
    "papermill": {
     "duration": 0.037639,
     "end_time": "2020-11-16T17:57:36.380501",
     "exception": false,
     "start_time": "2020-11-16T17:57:36.342862",
     "status": "completed"
    },
    "tags": []
   },
   "outputs": [],
   "source": [
    "pt_x_train = []\n",
    "pt_y_train = []\n",
    "pt_x_test  = []\n",
    "pt_y_test  = []\n",
    "\n",
    "tl_x_train = []\n",
    "tl_y_train = []\n",
    "tl_x_test  = []\n",
    "tl_y_test  = []"
   ]
  },
  {
   "cell_type": "code",
   "execution_count": 5,
   "metadata": {
    "_cell_guid": "d02a7897-7518-41b3-bca3-d01f324b3235",
    "_uuid": "51d3223f-6705-4a6d-bbf2-21ad38c721df",
    "execution": {
     "iopub.execute_input": "2020-11-16T17:57:36.442823Z",
     "iopub.status.busy": "2020-11-16T17:57:36.442028Z",
     "iopub.status.idle": "2020-11-16T17:57:37.370805Z",
     "shell.execute_reply": "2020-11-16T17:57:37.370022Z"
    },
    "papermill": {
     "duration": 0.965059,
     "end_time": "2020-11-16T17:57:37.370941",
     "exception": false,
     "start_time": "2020-11-16T17:57:36.405882",
     "status": "completed"
    },
    "tags": []
   },
   "outputs": [],
   "source": [
    "m = 60000\n",
    "for i in range(m):\n",
    "    if train_label[i]<5:\n",
    "        pt_x_train.append(train_images[i]/255)\n",
    "        pt_y_train.append(train_label[i])\n",
    "    else:\n",
    "        tl_x_train.append(train_images[i]/255)\n",
    "        tl_y_train.append(train_label[i])\n",
    "        \n",
    "n = 10000\n",
    "for i in range(n):\n",
    "    if test_label[i]<5:\n",
    "        pt_x_test.append(test_images[i]/255)\n",
    "        pt_y_test.append(test_label[i])\n",
    "    else:\n",
    "        tl_x_test.append(test_images[i]/255)\n",
    "        tl_y_test.append(test_label[i])"
   ]
  },
  {
   "cell_type": "code",
   "execution_count": 6,
   "metadata": {
    "_cell_guid": "14dd914f-1744-453b-b53a-3912dd0e02d3",
    "_uuid": "75f6bcb0-9b1f-4a0f-83da-99461556cf22",
    "execution": {
     "iopub.execute_input": "2020-11-16T17:57:37.423600Z",
     "iopub.status.busy": "2020-11-16T17:57:37.422776Z",
     "iopub.status.idle": "2020-11-16T17:57:37.782078Z",
     "shell.execute_reply": "2020-11-16T17:57:37.781472Z"
    },
    "papermill": {
     "duration": 0.388597,
     "end_time": "2020-11-16T17:57:37.782238",
     "exception": false,
     "start_time": "2020-11-16T17:57:37.393641",
     "status": "completed"
    },
    "tags": []
   },
   "outputs": [
    {
     "name": "stderr",
     "output_type": "stream",
     "text": [
      "Using TensorFlow backend.\n"
     ]
    }
   ],
   "source": [
    "from keras.utils import np_utils\n",
    "\n",
    "pt_x_train = np.asarray(pt_x_train).reshape(-1,28,28,1)\n",
    "pt_y_train = np_utils.to_categorical(np.asarray(pt_y_train))\n",
    "pt_x_test = np.asarray(pt_x_test).reshape(-1,28,28,1)\n",
    "pt_y_test = np_utils.to_categorical(np.asarray(pt_y_test))\n",
    "\n",
    "tl_x_train = np.asarray(tl_x_train).reshape(-1,28,28,1)\n",
    "tl_y_train = np_utils.to_categorical(np.asarray(tl_y_train))\n",
    "tl_x_test = np.asarray(tl_x_test).reshape(-1,28,28,1)\n",
    "tl_y_test = np_utils.to_categorical(np.asarray(tl_y_test))"
   ]
  },
  {
   "cell_type": "code",
   "execution_count": 7,
   "metadata": {
    "_cell_guid": "2dcc9bbb-cbf0-4f1d-80cc-6bd56047fca6",
    "_uuid": "383ce001-823c-4738-9d59-0e7a403ff1c3",
    "execution": {
     "iopub.execute_input": "2020-11-16T17:57:37.829507Z",
     "iopub.status.busy": "2020-11-16T17:57:37.828438Z",
     "iopub.status.idle": "2020-11-16T17:57:37.831785Z",
     "shell.execute_reply": "2020-11-16T17:57:37.830064Z"
    },
    "papermill": {
     "duration": 0.030066,
     "end_time": "2020-11-16T17:57:37.831890",
     "exception": false,
     "start_time": "2020-11-16T17:57:37.801824",
     "status": "completed"
    },
    "tags": []
   },
   "outputs": [
    {
     "name": "stdout",
     "output_type": "stream",
     "text": [
      "(30000, 28, 28, 1) (30000, 5)\n",
      "(5000, 28, 28, 1) (5000, 5)\n",
      "(30000, 28, 28, 1) (30000, 10)\n",
      "(5000, 28, 28, 1) (5000, 10)\n"
     ]
    }
   ],
   "source": [
    "print(pt_x_train.shape,pt_y_train.shape)\n",
    "print(pt_x_test.shape,pt_y_test.shape)\n",
    "\n",
    "print(tl_x_train.shape,tl_y_train.shape)\n",
    "print(tl_x_test.shape,tl_y_test.shape)"
   ]
  },
  {
   "cell_type": "code",
   "execution_count": 8,
   "metadata": {
    "_cell_guid": "223bec19-62a6-41e0-859c-58355916d5e2",
    "_uuid": "e59f6da9-815c-4aa3-a98d-6520e173297a",
    "execution": {
     "iopub.execute_input": "2020-11-16T17:57:37.877999Z",
     "iopub.status.busy": "2020-11-16T17:57:37.875883Z",
     "iopub.status.idle": "2020-11-16T17:57:37.878750Z",
     "shell.execute_reply": "2020-11-16T17:57:37.879270Z"
    },
    "papermill": {
     "duration": 0.027339,
     "end_time": "2020-11-16T17:57:37.879387",
     "exception": false,
     "start_time": "2020-11-16T17:57:37.852048",
     "status": "completed"
    },
    "tags": []
   },
   "outputs": [],
   "source": [
    "from keras.models import Sequential\n",
    "from keras.layers import Dense,Conv2D,Flatten,Activation,MaxPool2D,Dropout"
   ]
  },
  {
   "cell_type": "code",
   "execution_count": 9,
   "metadata": {
    "_cell_guid": "828118ab-c4a3-4d3e-a00a-7ae068d3b50a",
    "_uuid": "9d0e4297-1e23-4ea1-9545-f5bf70ece6f3",
    "execution": {
     "iopub.execute_input": "2020-11-16T17:57:37.926331Z",
     "iopub.status.busy": "2020-11-16T17:57:37.925762Z",
     "iopub.status.idle": "2020-11-16T17:57:41.526181Z",
     "shell.execute_reply": "2020-11-16T17:57:41.527440Z"
    },
    "papermill": {
     "duration": 3.628279,
     "end_time": "2020-11-16T17:57:41.527675",
     "exception": false,
     "start_time": "2020-11-16T17:57:37.899396",
     "status": "completed"
    },
    "tags": []
   },
   "outputs": [
    {
     "name": "stdout",
     "output_type": "stream",
     "text": [
      "Model: \"sequential_1\"\n",
      "_________________________________________________________________\n",
      "Layer (type)                 Output Shape              Param #   \n",
      "=================================================================\n",
      "conv2d_1 (Conv2D)            (None, 24, 24, 32)        832       \n",
      "_________________________________________________________________\n",
      "conv2d_2 (Conv2D)            (None, 20, 20, 16)        12816     \n",
      "_________________________________________________________________\n",
      "max_pooling2d_1 (MaxPooling2 (None, 10, 10, 16)        0         \n",
      "_________________________________________________________________\n",
      "conv2d_3 (Conv2D)            (None, 8, 8, 8)           1160      \n",
      "_________________________________________________________________\n",
      "flatten_1 (Flatten)          (None, 512)               0         \n",
      "_________________________________________________________________\n",
      "dropout_1 (Dropout)          (None, 512)               0         \n",
      "_________________________________________________________________\n",
      "dense_1 (Dense)              (None, 128)               65664     \n",
      "_________________________________________________________________\n",
      "dense_2 (Dense)              (None, 5)                 645       \n",
      "=================================================================\n",
      "Total params: 81,117\n",
      "Trainable params: 81,117\n",
      "Non-trainable params: 0\n",
      "_________________________________________________________________\n"
     ]
    }
   ],
   "source": [
    "model = Sequential()\n",
    "model.add(Conv2D(32,5,input_shape=(28,28,1),activation = 'relu'))\n",
    "model.add(Conv2D(16,5,activation='relu'))\n",
    "model.add(MaxPool2D(pool_size=(2,2)))\n",
    "model.add(Conv2D(8,3,activation='relu'))\n",
    "model.add(Flatten())\n",
    "model.add(Dropout(0.4))\n",
    "model.add(Dense(128,activation='relu'))\n",
    "model.add(Dense(5,activation='softmax'))\n",
    "\n",
    "model.summary()"
   ]
  },
  {
   "cell_type": "code",
   "execution_count": 10,
   "metadata": {
    "_cell_guid": "0fee34b4-472b-490d-93de-dc9e432791e1",
    "_uuid": "975eb163-5254-4b08-a7d2-82fc411e2238",
    "execution": {
     "iopub.execute_input": "2020-11-16T17:57:41.610053Z",
     "iopub.status.busy": "2020-11-16T17:57:41.609140Z",
     "iopub.status.idle": "2020-11-16T17:57:41.677814Z",
     "shell.execute_reply": "2020-11-16T17:57:41.678368Z"
    },
    "papermill": {
     "duration": 0.120337,
     "end_time": "2020-11-16T17:57:41.678551",
     "exception": false,
     "start_time": "2020-11-16T17:57:41.558214",
     "status": "completed"
    },
    "tags": []
   },
   "outputs": [],
   "source": [
    "model.compile(loss='categorical_crossentropy',optimizer='adam',metrics=['accuracy'])"
   ]
  },
  {
   "cell_type": "code",
   "execution_count": 11,
   "metadata": {
    "_cell_guid": "d3eed5fb-7e96-423d-970d-9cef73cb0565",
    "_uuid": "fc3d22cc-6724-431b-97d3-e035c2f3e94e",
    "execution": {
     "iopub.execute_input": "2020-11-16T17:57:41.747024Z",
     "iopub.status.busy": "2020-11-16T17:57:41.746234Z",
     "iopub.status.idle": "2020-11-16T17:58:02.015964Z",
     "shell.execute_reply": "2020-11-16T17:58:02.017020Z"
    },
    "papermill": {
     "duration": 20.305713,
     "end_time": "2020-11-16T17:58:02.017179",
     "exception": false,
     "start_time": "2020-11-16T17:57:41.711466",
     "status": "completed"
    },
    "tags": []
   },
   "outputs": [
    {
     "name": "stderr",
     "output_type": "stream",
     "text": [
      "/opt/conda/lib/python3.7/site-packages/ipykernel_launcher.py:9: UserWarning: The `nb_epoch` argument in `fit` has been renamed `epochs`.\n",
      "  if __name__ == '__main__':\n"
     ]
    },
    {
     "name": "stdout",
     "output_type": "stream",
     "text": [
      "Train on 30000 samples, validate on 5000 samples\n",
      "Epoch 1/10\n",
      " - 5s - loss: 0.5223 - accuracy: 0.7963 - val_loss: 0.3188 - val_accuracy: 0.8836\n",
      "Epoch 2/10\n",
      " - 2s - loss: 0.3131 - accuracy: 0.8845 - val_loss: 0.2610 - val_accuracy: 0.9096\n",
      "Epoch 3/10\n",
      " - 2s - loss: 0.2711 - accuracy: 0.9009 - val_loss: 0.2545 - val_accuracy: 0.9080\n",
      "Epoch 4/10\n",
      " - 2s - loss: 0.2471 - accuracy: 0.9099 - val_loss: 0.2239 - val_accuracy: 0.9202\n",
      "Epoch 5/10\n",
      " - 2s - loss: 0.2338 - accuracy: 0.9158 - val_loss: 0.2187 - val_accuracy: 0.9230\n",
      "Epoch 6/10\n",
      " - 2s - loss: 0.2214 - accuracy: 0.9192 - val_loss: 0.2114 - val_accuracy: 0.9254\n",
      "Epoch 7/10\n",
      " - 2s - loss: 0.2090 - accuracy: 0.9248 - val_loss: 0.1985 - val_accuracy: 0.9286\n",
      "Epoch 8/10\n",
      " - 2s - loss: 0.2006 - accuracy: 0.9276 - val_loss: 0.2015 - val_accuracy: 0.9308\n",
      "Epoch 9/10\n",
      " - 2s - loss: 0.1944 - accuracy: 0.9299 - val_loss: 0.1864 - val_accuracy: 0.9348\n",
      "Epoch 10/10\n",
      " - 2s - loss: 0.1873 - accuracy: 0.9322 - val_loss: 0.1856 - val_accuracy: 0.9378\n",
      "0:00:20.264435\n"
     ]
    }
   ],
   "source": [
    "import datetime\n",
    "\n",
    "start = datetime.datetime.now()\n",
    "model.fit(pt_x_train,pt_y_train,\n",
    "         validation_data=(pt_x_test,pt_y_test),\n",
    "         nb_epoch=10,\n",
    "         shuffle=True,\n",
    "         batch_size=100,\n",
    "         verbose=2)\n",
    "end = datetime.datetime.now()\n",
    "print(end-start)"
   ]
  },
  {
   "cell_type": "code",
   "execution_count": 12,
   "metadata": {
    "_cell_guid": "6ce29186-45b2-4c65-9f67-eb530427a8d9",
    "_uuid": "a0afd3f5-0cfa-4815-a3c2-e8e1c4298d16",
    "execution": {
     "iopub.execute_input": "2020-11-16T17:58:02.078131Z",
     "iopub.status.busy": "2020-11-16T17:58:02.077417Z",
     "iopub.status.idle": "2020-11-16T17:58:02.081377Z",
     "shell.execute_reply": "2020-11-16T17:58:02.080879Z"
    },
    "papermill": {
     "duration": 0.035692,
     "end_time": "2020-11-16T17:58:02.081469",
     "exception": false,
     "start_time": "2020-11-16T17:58:02.045777",
     "status": "completed"
    },
    "tags": []
   },
   "outputs": [],
   "source": [
    "for layer in model.layers[:6]:\n",
    "    layer.trainable = False #freeze uptil dropout layer"
   ]
  },
  {
   "cell_type": "code",
   "execution_count": 13,
   "metadata": {
    "_cell_guid": "b19aaca0-d935-4af3-ba39-c55ee0cbe543",
    "_uuid": "24b4b197-1cc8-4cfe-a589-727cfcbe55aa",
    "execution": {
     "iopub.execute_input": "2020-11-16T17:58:02.146361Z",
     "iopub.status.busy": "2020-11-16T17:58:02.145509Z",
     "iopub.status.idle": "2020-11-16T17:58:02.335420Z",
     "shell.execute_reply": "2020-11-16T17:58:02.334844Z"
    },
    "papermill": {
     "duration": 0.22624,
     "end_time": "2020-11-16T17:58:02.335548",
     "exception": false,
     "start_time": "2020-11-16T17:58:02.109308",
     "status": "completed"
    },
    "tags": []
   },
   "outputs": [
    {
     "name": "stdout",
     "output_type": "stream",
     "text": [
      "Model: \"sequential_2\"\n",
      "_________________________________________________________________\n",
      "Layer (type)                 Output Shape              Param #   \n",
      "=================================================================\n",
      "conv2d_1 (Conv2D)            (None, 24, 24, 32)        832       \n",
      "_________________________________________________________________\n",
      "conv2d_2 (Conv2D)            (None, 20, 20, 16)        12816     \n",
      "_________________________________________________________________\n",
      "max_pooling2d_1 (MaxPooling2 (None, 10, 10, 16)        0         \n",
      "_________________________________________________________________\n",
      "conv2d_3 (Conv2D)            (None, 8, 8, 8)           1160      \n",
      "_________________________________________________________________\n",
      "flatten_1 (Flatten)          (None, 512)               0         \n",
      "_________________________________________________________________\n",
      "dropout_1 (Dropout)          (None, 512)               0         \n",
      "_________________________________________________________________\n",
      "dense_3 (Dense)              (None, 128)               65664     \n",
      "_________________________________________________________________\n",
      "dense_4 (Dense)              (None, 10)                1290      \n",
      "=================================================================\n",
      "Total params: 81,762\n",
      "Trainable params: 66,954\n",
      "Non-trainable params: 14,808\n",
      "_________________________________________________________________\n"
     ]
    }
   ],
   "source": [
    "tl_model = Sequential(model.layers[:6])\n",
    "tl_model.add(Dense(128,activation='relu'))\n",
    "tl_model.add(Dense(10,activation='softmax'))\n",
    "\n",
    "tl_model.summary()"
   ]
  },
  {
   "cell_type": "code",
   "execution_count": 14,
   "metadata": {
    "_cell_guid": "5b80025d-d1fc-4515-8821-e910233128f3",
    "_uuid": "4aa3e986-63dc-45e2-8452-dcc012fb0624",
    "execution": {
     "iopub.execute_input": "2020-11-16T17:58:02.406282Z",
     "iopub.status.busy": "2020-11-16T17:58:02.405314Z",
     "iopub.status.idle": "2020-11-16T17:58:02.443511Z",
     "shell.execute_reply": "2020-11-16T17:58:02.442698Z"
    },
    "papermill": {
     "duration": 0.075384,
     "end_time": "2020-11-16T17:58:02.443646",
     "exception": false,
     "start_time": "2020-11-16T17:58:02.368262",
     "status": "completed"
    },
    "tags": []
   },
   "outputs": [],
   "source": [
    "tl_model.compile(loss='categorical_crossentropy',\n",
    "                optimizer='adam',\n",
    "                metrics=['accuracy'])"
   ]
  },
  {
   "cell_type": "code",
   "execution_count": 15,
   "metadata": {
    "_cell_guid": "a2931d2c-f614-4954-a7a6-a9f5e9821bd7",
    "_uuid": "ecb2277c-b2a6-42cb-b4f7-060e300fcacf",
    "execution": {
     "iopub.execute_input": "2020-11-16T17:58:02.506678Z",
     "iopub.status.busy": "2020-11-16T17:58:02.506039Z",
     "iopub.status.idle": "2020-11-16T17:58:15.341173Z",
     "shell.execute_reply": "2020-11-16T17:58:15.340271Z"
    },
    "papermill": {
     "duration": 12.869726,
     "end_time": "2020-11-16T17:58:15.341343",
     "exception": false,
     "start_time": "2020-11-16T17:58:02.471617",
     "status": "completed"
    },
    "tags": []
   },
   "outputs": [
    {
     "name": "stderr",
     "output_type": "stream",
     "text": [
      "/opt/conda/lib/python3.7/site-packages/ipykernel_launcher.py:7: UserWarning: The `nb_epoch` argument in `fit` has been renamed `epochs`.\n",
      "  import sys\n"
     ]
    },
    {
     "name": "stdout",
     "output_type": "stream",
     "text": [
      "Train on 30000 samples, validate on 5000 samples\n",
      "Epoch 1/10\n",
      " - 1s - loss: 0.3441 - accuracy: 0.8881 - val_loss: 0.1701 - val_accuracy: 0.9426\n",
      "Epoch 2/10\n",
      " - 1s - loss: 0.1982 - accuracy: 0.9316 - val_loss: 0.1439 - val_accuracy: 0.9508\n",
      "Epoch 3/10\n",
      " - 1s - loss: 0.1840 - accuracy: 0.9364 - val_loss: 0.1506 - val_accuracy: 0.9448\n",
      "Epoch 4/10\n",
      " - 1s - loss: 0.1684 - accuracy: 0.9410 - val_loss: 0.1303 - val_accuracy: 0.9554\n",
      "Epoch 5/10\n",
      " - 1s - loss: 0.1618 - accuracy: 0.9431 - val_loss: 0.1237 - val_accuracy: 0.9566\n",
      "Epoch 6/10\n",
      " - 1s - loss: 0.1474 - accuracy: 0.9474 - val_loss: 0.1189 - val_accuracy: 0.9592\n",
      "Epoch 7/10\n",
      " - 1s - loss: 0.1403 - accuracy: 0.9498 - val_loss: 0.1154 - val_accuracy: 0.9606\n",
      "Epoch 8/10\n",
      " - 1s - loss: 0.1380 - accuracy: 0.9506 - val_loss: 0.1269 - val_accuracy: 0.9582\n",
      "Epoch 9/10\n",
      " - 1s - loss: 0.1325 - accuracy: 0.9538 - val_loss: 0.1156 - val_accuracy: 0.9604\n",
      "Epoch 10/10\n",
      " - 1s - loss: 0.1281 - accuracy: 0.9526 - val_loss: 0.1100 - val_accuracy: 0.9610\n",
      "0:00:12.827461\n"
     ]
    }
   ],
   "source": [
    "start = datetime.datetime.now()\n",
    "history=tl_model.fit(tl_x_train,tl_y_train,\n",
    "         validation_data=(tl_x_test,tl_y_test),\n",
    "         nb_epoch=10,\n",
    "         shuffle=True,\n",
    "         batch_size=100,\n",
    "         verbose=2)\n",
    "end = datetime.datetime.now()\n",
    "print(end-start)"
   ]
  },
  {
   "cell_type": "code",
   "execution_count": 16,
   "metadata": {
    "_cell_guid": "624a399e-267f-45a8-9b0d-202efce97324",
    "_uuid": "22801937-0893-4412-b91a-3f0d224d56e6",
    "execution": {
     "iopub.execute_input": "2020-11-16T17:58:15.421939Z",
     "iopub.status.busy": "2020-11-16T17:58:15.421327Z",
     "iopub.status.idle": "2020-11-16T17:58:15.792358Z",
     "shell.execute_reply": "2020-11-16T17:58:15.791828Z"
    },
    "papermill": {
     "duration": 0.413565,
     "end_time": "2020-11-16T17:58:15.792492",
     "exception": false,
     "start_time": "2020-11-16T17:58:15.378927",
     "status": "completed"
    },
    "tags": []
   },
   "outputs": [
    {
     "data": {
      "text/plain": [
       "<matplotlib.legend.Legend at 0x7f5d944d6b50>"
      ]
     },
     "execution_count": 16,
     "metadata": {},
     "output_type": "execute_result"
    },
    {
     "data": {
      "image/png": "[encoded data removed]",
      "text/plain": [
       "<Figure size 360x360 with 1 Axes>"
      ]
     },
     "metadata": {
      "needs_background": "light"
     },
     "output_type": "display_data"
    },
    {
     "data": {
      "image/png": "[encoded data removed]",
      "text/plain": [
       "<Figure size 360x360 with 1 Axes>"
      ]
     },
     "metadata": {
      "needs_background": "light"
     },
     "output_type": "display_data"
    }
   ],
   "source": [
    "import matplotlib.pyplot as plt\n",
    "\n",
    "plt.figure(figsize=(5,5))\n",
    "plt.plot(history.history['accuracy'],'r',label='Training accuracy')\n",
    "plt.plot(history.history['val_accuracy'],'b',label='Validation accuracy')\n",
    "plt.legend()\n",
    "\n",
    "plt.figure(figsize=(5,5))\n",
    "plt.plot(history.history['loss'],'r',label='Training loss')\n",
    "plt.plot(history.history['val_loss'],'b',label='Validation loss')\n",
    "plt.legend()"
   ]
  },
  {
   "cell_type": "code",
   "execution_count": null,
   "metadata": {
    "papermill": {
     "duration": 0.040421,
     "end_time": "2020-11-16T17:58:15.874933",
     "exception": false,
     "start_time": "2020-11-16T17:58:15.834512",
     "status": "completed"
    },
    "tags": []
   },
   "outputs": [],
   "source": []
  }
 ],
 "metadata": {
  "kernelspec": {
   "display_name": "Python 3",
   "language": "python",
   "name": "python3"
  },
  "language_info": {
   "codemirror_mode": {
    "name": "ipython",
    "version": 3
   },
   "file_extension": ".py",
   "mimetype": "text/x-python",
   "name": "python",
   "nbconvert_exporter": "python",
   "pygments_lexer": "ipython3",
   "version": "3.7.6"
  },
  "papermill": {
   "duration": 52.865645,
   "end_time": "2020-11-16T17:58:17.653069",
   "environment_variables": {},
   "exception": null,
   "input_path": "__notebook__.ipynb",
   "output_path": "__notebook__.ipynb",
   "parameters": {},
   "start_time": "2020-11-16T17:57:24.787424",
   "version": "2.1.0"
  }
 },
 "nbformat": 4,
 "nbformat_minor": 4
}
